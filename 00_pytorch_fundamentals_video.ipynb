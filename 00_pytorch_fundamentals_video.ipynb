{
  "nbformat": 4,
  "nbformat_minor": 0,
  "metadata": {
    "colab": {
      "provenance": [],
      "gpuType": "T4",
      "authorship_tag": "ABX9TyMMEiy3zEMQYSrKX/XTwIT+",
      "include_colab_link": true
    },
    "kernelspec": {
      "name": "python3",
      "display_name": "Python 3"
    },
    "language_info": {
      "name": "python"
    },
    "gpuClass": "standard",
    "accelerator": "GPU"
  },
  "cells": [
    {
      "cell_type": "markdown",
      "metadata": {
        "id": "view-in-github",
        "colab_type": "text"
      },
      "source": [
        "<a href=\"https://colab.research.google.com/github/VarnitaJoshi/DeepLearning_Pytorch/blob/main/00_pytorch_fundamentals_video.ipynb\" target=\"_parent\"><img src=\"https://colab.research.google.com/assets/colab-badge.svg\" alt=\"Open In Colab\"/></a>"
      ]
    },
    {
      "cell_type": "code",
      "execution_count": 1,
      "metadata": {
        "colab": {
          "base_uri": "https://localhost:8080/"
        },
        "id": "Ge-LXl3LkGkz",
        "outputId": "7047609e-a53c-470b-a098-88a7f371c516"
      },
      "outputs": [
        {
          "output_type": "stream",
          "name": "stdout",
          "text": [
            "hello\n"
          ]
        }
      ],
      "source": [
        "print(\"hello\")"
      ]
    },
    {
      "cell_type": "code",
      "source": [
        "!nvidia-smi"
      ],
      "metadata": {
        "colab": {
          "base_uri": "https://localhost:8080/"
        },
        "id": "goMo1CMEBqNg",
        "outputId": "ce8851e9-342b-4300-be55-a45dd7d7e0d9"
      },
      "execution_count": 2,
      "outputs": [
        {
          "output_type": "stream",
          "name": "stdout",
          "text": [
            "Sat May  6 09:50:46 2023       \n",
            "+-----------------------------------------------------------------------------+\n",
            "| NVIDIA-SMI 525.85.12    Driver Version: 525.85.12    CUDA Version: 12.0     |\n",
            "|-------------------------------+----------------------+----------------------+\n",
            "| GPU  Name        Persistence-M| Bus-Id        Disp.A | Volatile Uncorr. ECC |\n",
            "| Fan  Temp  Perf  Pwr:Usage/Cap|         Memory-Usage | GPU-Util  Compute M. |\n",
            "|                               |                      |               MIG M. |\n",
            "|===============================+======================+======================|\n",
            "|   0  Tesla T4            Off  | 00000000:00:04.0 Off |                    0 |\n",
            "| N/A   67C    P8    11W /  70W |      0MiB / 15360MiB |      0%      Default |\n",
            "|                               |                      |                  N/A |\n",
            "+-------------------------------+----------------------+----------------------+\n",
            "                                                                               \n",
            "+-----------------------------------------------------------------------------+\n",
            "| Processes:                                                                  |\n",
            "|  GPU   GI   CI        PID   Type   Process name                  GPU Memory |\n",
            "|        ID   ID                                                   Usage      |\n",
            "|=============================================================================|\n",
            "|  No running processes found                                                 |\n",
            "+-----------------------------------------------------------------------------+\n"
          ]
        }
      ]
    },
    {
      "cell_type": "code",
      "source": [
        "import torch\n",
        "import pandas as pd\n",
        "import numpy as np\n",
        "import matplotlib.pyplot as plt\n",
        "print(torch.__version__)\n"
      ],
      "metadata": {
        "colab": {
          "base_uri": "https://localhost:8080/"
        },
        "id": "4b_iCEoGBoOf",
        "outputId": "c506e8fc-1b58-4305-d877-255b7084579b"
      },
      "execution_count": 3,
      "outputs": [
        {
          "output_type": "stream",
          "name": "stdout",
          "text": [
            "2.0.0+cu118\n"
          ]
        }
      ]
    },
    {
      "cell_type": "markdown",
      "source": [
        "## Introduction to Tensors\n",
        "Creating Tensors\n",
        "\n",
        "PyTorch Tensors are created using torch.Tensor()' -= https://pytorch.org/docs/stable/tensors.html\n",
        "\n",
        "\n"
      ],
      "metadata": {
        "id": "yIgUdoU3Ez1I"
      }
    },
    {
      "cell_type": "code",
      "source": [
        "#scalar\n",
        "scalar= torch.tensor(7)\n",
        "scalar"
      ],
      "metadata": {
        "colab": {
          "base_uri": "https://localhost:8080/"
        },
        "id": "C9dG0_sPEyBi",
        "outputId": "0fde1bd9-ac59-4173-8770-3fe34a64a363"
      },
      "execution_count": 4,
      "outputs": [
        {
          "output_type": "execute_result",
          "data": {
            "text/plain": [
              "tensor(7)"
            ]
          },
          "metadata": {},
          "execution_count": 4
        }
      ]
    },
    {
      "cell_type": "code",
      "source": [
        "#scalar no dimensions single number\n",
        "scalar.ndim"
      ],
      "metadata": {
        "colab": {
          "base_uri": "https://localhost:8080/"
        },
        "id": "VCYE1WjtHlPo",
        "outputId": "8f8445d6-f3ec-4411-af03-9243bbf2ec19"
      },
      "execution_count": 5,
      "outputs": [
        {
          "output_type": "execute_result",
          "data": {
            "text/plain": [
              "0"
            ]
          },
          "metadata": {},
          "execution_count": 5
        }
      ]
    },
    {
      "cell_type": "code",
      "source": [
        "# Get tensor back as python int\n",
        "scalar.item()"
      ],
      "metadata": {
        "colab": {
          "base_uri": "https://localhost:8080/"
        },
        "id": "S-sXcJDII-N2",
        "outputId": "3e5237d1-7659-45b6-8964-4f267c9c17c5"
      },
      "execution_count": 6,
      "outputs": [
        {
          "output_type": "execute_result",
          "data": {
            "text/plain": [
              "7"
            ]
          },
          "metadata": {},
          "execution_count": 6
        }
      ]
    },
    {
      "cell_type": "markdown",
      "source": [
        "Picture-https://www.google.com/url?sa=i&url=https%3A%2F%2Fhadrienj.github.io%2Fposts%2FDeep-Learning-Book-Series-2.1-Scalars-Vectors-Matrices-and-Tensors%2F&psig=AOvVaw3BQMiX9BHI0lk9SpQvMpmG&ust=1683363807016000&source=images&cd=vfe&ved=0CBEQjRxqFwoTCPDM3__o3f4CFQAAAAAdAAAAABAE"
      ],
      "metadata": {
        "id": "hsRYGCjeKWbf"
      }
    },
    {
      "cell_type": "code",
      "source": [
        "#Vector\n",
        "vector=torch.tensor([7,7])\n",
        "vector"
      ],
      "metadata": {
        "colab": {
          "base_uri": "https://localhost:8080/"
        },
        "id": "lS4y5UICJPxM",
        "outputId": "b5ed4908-fde3-4862-a1b2-1a5e0f080754"
      },
      "execution_count": 7,
      "outputs": [
        {
          "output_type": "execute_result",
          "data": {
            "text/plain": [
              "tensor([7, 7])"
            ]
          },
          "metadata": {},
          "execution_count": 7
        }
      ]
    },
    {
      "cell_type": "code",
      "source": [
        "#dimension is number of square brackets\n",
        "vector.ndim"
      ],
      "metadata": {
        "colab": {
          "base_uri": "https://localhost:8080/"
        },
        "id": "1nRCJ2fRKrru",
        "outputId": "8689d7bf-9651-492d-a17b-be08ce24463b"
      },
      "execution_count": 8,
      "outputs": [
        {
          "output_type": "execute_result",
          "data": {
            "text/plain": [
              "1"
            ]
          },
          "metadata": {},
          "execution_count": 8
        }
      ]
    },
    {
      "cell_type": "code",
      "source": [
        "#shape of vector\n",
        "vector.shape"
      ],
      "metadata": {
        "colab": {
          "base_uri": "https://localhost:8080/"
        },
        "id": "YTc0ZM9EKvHc",
        "outputId": "420952ea-bcca-4dcd-ebd2-c10a3d82f3d2"
      },
      "execution_count": 9,
      "outputs": [
        {
          "output_type": "execute_result",
          "data": {
            "text/plain": [
              "torch.Size([2])"
            ]
          },
          "metadata": {},
          "execution_count": 9
        }
      ]
    },
    {
      "cell_type": "code",
      "source": [
        "#MATRIX\n",
        "MATRIX= torch.tensor([[7,8],[9,10],[7,6]])\n",
        "MATRIX"
      ],
      "metadata": {
        "colab": {
          "base_uri": "https://localhost:8080/"
        },
        "id": "dPCjUgfeLof7",
        "outputId": "55f16a74-5cbe-4a4e-c52b-2db1747413a2"
      },
      "execution_count": 10,
      "outputs": [
        {
          "output_type": "execute_result",
          "data": {
            "text/plain": [
              "tensor([[ 7,  8],\n",
              "        [ 9, 10],\n",
              "        [ 7,  6]])"
            ]
          },
          "metadata": {},
          "execution_count": 10
        }
      ]
    },
    {
      "cell_type": "code",
      "source": [
        "#two brackets pairing on outside\n",
        "MATRIX.ndim\n"
      ],
      "metadata": {
        "colab": {
          "base_uri": "https://localhost:8080/"
        },
        "id": "mdyazfAcM0Z_",
        "outputId": "83bf229c-3783-4dd8-8631-dc1aa207f28c"
      },
      "execution_count": 11,
      "outputs": [
        {
          "output_type": "execute_result",
          "data": {
            "text/plain": [
              "2"
            ]
          },
          "metadata": {},
          "execution_count": 11
        }
      ]
    },
    {
      "cell_type": "code",
      "source": [
        "MATRIX[0]"
      ],
      "metadata": {
        "colab": {
          "base_uri": "https://localhost:8080/"
        },
        "id": "MsAiy2JoNF2d",
        "outputId": "3ffdc878-3c43-468e-c8f6-2a1c7afc80e7"
      },
      "execution_count": 12,
      "outputs": [
        {
          "output_type": "execute_result",
          "data": {
            "text/plain": [
              "tensor([7, 8])"
            ]
          },
          "metadata": {},
          "execution_count": 12
        }
      ]
    },
    {
      "cell_type": "code",
      "source": [
        "MATRIX.shape"
      ],
      "metadata": {
        "colab": {
          "base_uri": "https://localhost:8080/"
        },
        "id": "LpF8CdDQNPdf",
        "outputId": "24fb405b-c076-444c-a8f2-9937831f9a53"
      },
      "execution_count": 13,
      "outputs": [
        {
          "output_type": "execute_result",
          "data": {
            "text/plain": [
              "torch.Size([3, 2])"
            ]
          },
          "metadata": {},
          "execution_count": 13
        }
      ]
    },
    {
      "cell_type": "code",
      "source": [
        "#Tensor\n",
        "Tensor= torch.tensor([[[1,2,3],[3,6,9],[2,4,5]]])\n",
        "Tensor"
      ],
      "metadata": {
        "colab": {
          "base_uri": "https://localhost:8080/"
        },
        "id": "rAzm0NzFOv8e",
        "outputId": "00bd28f3-88dd-4c8e-f7e1-5fb74b528501"
      },
      "execution_count": 14,
      "outputs": [
        {
          "output_type": "execute_result",
          "data": {
            "text/plain": [
              "tensor([[[1, 2, 3],\n",
              "         [3, 6, 9],\n",
              "         [2, 4, 5]]])"
            ]
          },
          "metadata": {},
          "execution_count": 14
        }
      ]
    },
    {
      "cell_type": "code",
      "source": [
        "Tensor.ndim"
      ],
      "metadata": {
        "colab": {
          "base_uri": "https://localhost:8080/"
        },
        "id": "__gSzdkMPTQv",
        "outputId": "66d3ece5-d2bb-4660-c323-384dc22295ac"
      },
      "execution_count": 15,
      "outputs": [
        {
          "output_type": "execute_result",
          "data": {
            "text/plain": [
              "3"
            ]
          },
          "metadata": {},
          "execution_count": 15
        }
      ]
    },
    {
      "cell_type": "code",
      "source": [
        "Tensor.shape\n",
        "# size= no. elements in last bracket, no. elements in inner bracket,no. elemnts in innermost bracket."
      ],
      "metadata": {
        "colab": {
          "base_uri": "https://localhost:8080/"
        },
        "id": "TFyiVobYPj8R",
        "outputId": "b2bb11ee-6572-43a8-ba55-4cce0530df58"
      },
      "execution_count": 16,
      "outputs": [
        {
          "output_type": "execute_result",
          "data": {
            "text/plain": [
              "torch.Size([1, 3, 3])"
            ]
          },
          "metadata": {},
          "execution_count": 16
        }
      ]
    },
    {
      "cell_type": "code",
      "source": [
        "newtensor=torch.tensor([[[1,2],[2,3],[4,5],[6,6]]])\n",
        "newtensor"
      ],
      "metadata": {
        "colab": {
          "base_uri": "https://localhost:8080/"
        },
        "id": "5hjb3buFQrye",
        "outputId": "60f264d2-d25f-414d-ed10-93b5f3dbe82b"
      },
      "execution_count": 17,
      "outputs": [
        {
          "output_type": "execute_result",
          "data": {
            "text/plain": [
              "tensor([[[1, 2],\n",
              "         [2, 3],\n",
              "         [4, 5],\n",
              "         [6, 6]]])"
            ]
          },
          "metadata": {},
          "execution_count": 17
        }
      ]
    },
    {
      "cell_type": "code",
      "source": [
        "newtensor.ndim"
      ],
      "metadata": {
        "colab": {
          "base_uri": "https://localhost:8080/"
        },
        "id": "d-L5J_NtRmki",
        "outputId": "df0be471-4458-47cd-ea1c-6874d8b37132"
      },
      "execution_count": 18,
      "outputs": [
        {
          "output_type": "execute_result",
          "data": {
            "text/plain": [
              "3"
            ]
          },
          "metadata": {},
          "execution_count": 18
        }
      ]
    },
    {
      "cell_type": "markdown",
      "source": [
        "Scalar and vectors lower case\n",
        "matrix and tensor upper case"
      ],
      "metadata": {
        "id": "Oi70kUmSS7Js"
      }
    },
    {
      "cell_type": "code",
      "source": [
        "newtensor.shape\n"
      ],
      "metadata": {
        "colab": {
          "base_uri": "https://localhost:8080/"
        },
        "id": "0b2XrNjhSB-a",
        "outputId": "94ab2ae1-d744-4782-f2c9-abb1e399c18e"
      },
      "execution_count": 19,
      "outputs": [
        {
          "output_type": "execute_result",
          "data": {
            "text/plain": [
              "torch.Size([1, 4, 2])"
            ]
          },
          "metadata": {},
          "execution_count": 19
        }
      ]
    },
    {
      "cell_type": "markdown",
      "source": [
        "### RANDOM TENSORS \n",
        "WHY?\n",
        " a machine learning model often starts out with large random tensors of numbers and adjusts these random numbers as it works through data to better represent it.\n",
        "\n",
        "Start with random numbers -> look at data -> update random numbers -> look at data -> update random numbers...\n",
        "\n",
        "Torch Random Tensors-https://pytorch.org/docs/stable/generated/torch.rand.html\n",
        "\n"
      ],
      "metadata": {
        "id": "bd2dW-7oTTUm"
      }
    },
    {
      "cell_type": "code",
      "source": [
        "# create a random tensors of size/shape (3,4)\n",
        "random_tensor=torch.rand(3,4)\n",
        "#random_tensor=torch.rand(1,10,10)\n",
        "random_tensor\n"
      ],
      "metadata": {
        "colab": {
          "base_uri": "https://localhost:8080/"
        },
        "id": "nbVUSH3YUerF",
        "outputId": "701d6219-a7de-4d07-81fc-5c4c3ac16a47"
      },
      "execution_count": 20,
      "outputs": [
        {
          "output_type": "execute_result",
          "data": {
            "text/plain": [
              "tensor([[0.7580, 0.1873, 0.0186, 0.4626],\n",
              "        [0.9215, 0.1823, 0.9803, 0.6382],\n",
              "        [0.4261, 0.2345, 0.7337, 0.0112]])"
            ]
          },
          "metadata": {},
          "execution_count": 20
        }
      ]
    },
    {
      "cell_type": "code",
      "source": [
        "random_tensor.ndim"
      ],
      "metadata": {
        "colab": {
          "base_uri": "https://localhost:8080/"
        },
        "id": "ZHKALCzLXlqq",
        "outputId": "00a28156-7c76-4747-9392-b187f7948f5b"
      },
      "execution_count": 21,
      "outputs": [
        {
          "output_type": "execute_result",
          "data": {
            "text/plain": [
              "2"
            ]
          },
          "metadata": {},
          "execution_count": 21
        }
      ]
    },
    {
      "cell_type": "code",
      "source": [
        "#random tensor with similar shape to an image tensor, can use size parameter optional\n",
        "random_image_size_tensor=torch.rand(size=(224,224,3)) # height, width, colour channels (R, G, B)\n",
        "random_image_size_tensor=torch.rand(size=(3,224,224))\n",
        "random_image_size_tensor.shape, random_image_size_tensor.ndim"
      ],
      "metadata": {
        "colab": {
          "base_uri": "https://localhost:8080/"
        },
        "id": "7kzHKCsCXsSs",
        "outputId": "c01261b7-a4c2-4d60-f659-439778845678"
      },
      "execution_count": 22,
      "outputs": [
        {
          "output_type": "execute_result",
          "data": {
            "text/plain": [
              "(torch.Size([3, 224, 224]), 3)"
            ]
          },
          "metadata": {},
          "execution_count": 22
        }
      ]
    },
    {
      "cell_type": "markdown",
      "source": [
        "###Zeroes and ones"
      ],
      "metadata": {
        "id": "pEVQbGjBaE92"
      }
    },
    {
      "cell_type": "code",
      "source": [
        "#Create a tensor of all zeroes, used to mask out some columns in a tensor.\n",
        "zeros=torch.zeros(size=(3,4))\n",
        "zeros"
      ],
      "metadata": {
        "colab": {
          "base_uri": "https://localhost:8080/"
        },
        "id": "SUQCwRnwaX1S",
        "outputId": "7bca6f14-3d74-4cb4-bdfc-be80049fc1a2"
      },
      "execution_count": 23,
      "outputs": [
        {
          "output_type": "execute_result",
          "data": {
            "text/plain": [
              "tensor([[0., 0., 0., 0.],\n",
              "        [0., 0., 0., 0.],\n",
              "        [0., 0., 0., 0.]])"
            ]
          },
          "metadata": {},
          "execution_count": 23
        }
      ]
    },
    {
      "cell_type": "code",
      "source": [
        "zeros *random_tensor"
      ],
      "metadata": {
        "colab": {
          "base_uri": "https://localhost:8080/"
        },
        "id": "mkRJPT9uatvT",
        "outputId": "fbab34ba-4e5f-4ff4-a871-42b0d689a3e5"
      },
      "execution_count": 24,
      "outputs": [
        {
          "output_type": "execute_result",
          "data": {
            "text/plain": [
              "tensor([[0., 0., 0., 0.],\n",
              "        [0., 0., 0., 0.],\n",
              "        [0., 0., 0., 0.]])"
            ]
          },
          "metadata": {},
          "execution_count": 24
        }
      ]
    },
    {
      "cell_type": "code",
      "source": [
        "# tensor of all ones\n",
        "ones=torch.ones(size=(3,4))\n",
        "ones"
      ],
      "metadata": {
        "colab": {
          "base_uri": "https://localhost:8080/"
        },
        "id": "Fie73txUbIGG",
        "outputId": "c04b5be8-2153-4a99-c07e-6881049e0edd"
      },
      "execution_count": 25,
      "outputs": [
        {
          "output_type": "execute_result",
          "data": {
            "text/plain": [
              "tensor([[1., 1., 1., 1.],\n",
              "        [1., 1., 1., 1.],\n",
              "        [1., 1., 1., 1.]])"
            ]
          },
          "metadata": {},
          "execution_count": 25
        }
      ]
    },
    {
      "cell_type": "code",
      "source": [
        "ones.dtype # default datatype."
      ],
      "metadata": {
        "colab": {
          "base_uri": "https://localhost:8080/"
        },
        "id": "weAeCkPbcPrD",
        "outputId": "a7d64f04-833f-41f4-8901-495abc0690b2"
      },
      "execution_count": 26,
      "outputs": [
        {
          "output_type": "execute_result",
          "data": {
            "text/plain": [
              "torch.float32"
            ]
          },
          "metadata": {},
          "execution_count": 26
        }
      ]
    },
    {
      "cell_type": "code",
      "source": [
        "random_tensor.dtype"
      ],
      "metadata": {
        "colab": {
          "base_uri": "https://localhost:8080/"
        },
        "id": "cBZm4wcdc1lF",
        "outputId": "c849b589-1c5e-4fe5-9199-17be00901a2e"
      },
      "execution_count": 27,
      "outputs": [
        {
          "output_type": "execute_result",
          "data": {
            "text/plain": [
              "torch.float32"
            ]
          },
          "metadata": {},
          "execution_count": 27
        }
      ]
    },
    {
      "cell_type": "markdown",
      "source": [
        "#### Creating a range of Tensors and tensors-like"
      ],
      "metadata": {
        "id": "zBhDUJsac-G3"
      }
    },
    {
      "cell_type": "code",
      "source": [
        "#use torch range gets deprecated msg\n",
        "# one_to_ten=torch.arange(1, 11) see torch.arange\n",
        "# one_to_ten=torch.arange(start=0, end=1000, step=77)\n",
        "one_to_ten=torch.arange(start=1, end=11, step=1)\n",
        "\n",
        "one_to_ten"
      ],
      "metadata": {
        "colab": {
          "base_uri": "https://localhost:8080/"
        },
        "id": "ZB4K_DDvdNR4",
        "outputId": "035f2747-2e2b-463a-fdab-984e7d275ddc"
      },
      "execution_count": 28,
      "outputs": [
        {
          "output_type": "execute_result",
          "data": {
            "text/plain": [
              "tensor([ 1,  2,  3,  4,  5,  6,  7,  8,  9, 10])"
            ]
          },
          "metadata": {},
          "execution_count": 28
        }
      ]
    },
    {
      "cell_type": "code",
      "source": [
        "# create tensors like--same shape \n",
        "ten_zeros=torch.zeros_like(input=one_to_ten)\n",
        "ten_zeros"
      ],
      "metadata": {
        "colab": {
          "base_uri": "https://localhost:8080/"
        },
        "id": "TBUgq1gZgY8R",
        "outputId": "9b2cc0d4-1c99-440a-8f53-b9c83c1edad2"
      },
      "execution_count": 29,
      "outputs": [
        {
          "output_type": "execute_result",
          "data": {
            "text/plain": [
              "tensor([0, 0, 0, 0, 0, 0, 0, 0, 0, 0])"
            ]
          },
          "metadata": {},
          "execution_count": 29
        }
      ]
    },
    {
      "cell_type": "markdown",
      "source": [
        "### Tensor datatypes\n",
        "\n",
        "Tensor datatypes is one of 3 major error prone area with PyTorch and deep learning.\n",
        "1. Tensor incorrect datatype\n",
        "2.Tensor incorrect shape\n",
        "3. Tensor incorrect device.\n",
        "\n",
        "Precision in Computing-https://en.wikipedia.org/wiki/Precision_(computer_science)"
      ],
      "metadata": {
        "id": "MRLgrwqHhfuK"
      }
    },
    {
      "cell_type": "code",
      "source": [
        "#Float 32 tensor(precision in computing)\n",
        "# float_32_tensor=torch.tensor([3.0,6.0,9.0],dtype=None)\n",
        "float_32_tensor=torch.tensor([3.0,6.0,9.0],dtype=None, # datatype of tensor\n",
        "                          device=None, # device on which tensor is made\n",
        "                             requires_grad=False) # whether or not to trak gradients for tensor oerations\n",
        "# float_32_tensor=torch.tensor([3.0,6.0,9.0],dtype=None, device=\"cuda\", requires_grad=False)\n",
        "\n",
        "                            \n",
        "float_32_tensor, float_32_tensor.dtype"
      ],
      "metadata": {
        "colab": {
          "base_uri": "https://localhost:8080/"
        },
        "id": "GddAZr2-hjlY",
        "outputId": "5bf7f32e-8bc4-4b43-e735-4594349d9f31"
      },
      "execution_count": 30,
      "outputs": [
        {
          "output_type": "execute_result",
          "data": {
            "text/plain": [
              "(tensor([3., 6., 9.]), torch.float32)"
            ]
          },
          "metadata": {},
          "execution_count": 30
        }
      ]
    },
    {
      "cell_type": "code",
      "source": [
        "float_16_tensor2=torch.tensor([3.0,6.0,9.0],dtype=torch.float16)\n",
        "float_16_tensor2, float_16_tensor2.dtype"
      ],
      "metadata": {
        "colab": {
          "base_uri": "https://localhost:8080/"
        },
        "id": "4hx2EFoliJK_",
        "outputId": "8e7bc23e-3edd-45e1-c7a6-148aebc9581c"
      },
      "execution_count": 31,
      "outputs": [
        {
          "output_type": "execute_result",
          "data": {
            "text/plain": [
              "(tensor([3., 6., 9.], dtype=torch.float16), torch.float16)"
            ]
          },
          "metadata": {},
          "execution_count": 31
        }
      ]
    },
    {
      "cell_type": "code",
      "source": [
        "float_16_tensor=float_16_tensor2.type(torch.float32)\n",
        "float_16_tensor, float_16_tensor.dtype"
      ],
      "metadata": {
        "colab": {
          "base_uri": "https://localhost:8080/"
        },
        "id": "Fes6ZRWClmGW",
        "outputId": "ce7ce7c7-2ed7-4569-a0e7-c756c4082209"
      },
      "execution_count": 32,
      "outputs": [
        {
          "output_type": "execute_result",
          "data": {
            "text/plain": [
              "(tensor([3., 6., 9.]), torch.float32)"
            ]
          },
          "metadata": {},
          "execution_count": 32
        }
      ]
    },
    {
      "cell_type": "code",
      "source": [
        "float_32_tensor * float_16_tensor2 # some but not all operations may run ito error when tensors are not of right datatype"
      ],
      "metadata": {
        "colab": {
          "base_uri": "https://localhost:8080/"
        },
        "id": "EBwle8req39v",
        "outputId": "ff94436a-14f3-4301-d07f-6ea79b5e7548"
      },
      "execution_count": 33,
      "outputs": [
        {
          "output_type": "execute_result",
          "data": {
            "text/plain": [
              "tensor([ 9., 36., 81.])"
            ]
          },
          "metadata": {},
          "execution_count": 33
        }
      ]
    },
    {
      "cell_type": "code",
      "source": [
        "int_32_tensor=torch.tensor([3,6,9], dtype=torch.int32)\n",
        "int_32_tensor"
      ],
      "metadata": {
        "colab": {
          "base_uri": "https://localhost:8080/"
        },
        "id": "cof7x50ernDW",
        "outputId": "6ca96471-cc82-4b8c-ea55-08bdd85f6c5e"
      },
      "execution_count": 34,
      "outputs": [
        {
          "output_type": "execute_result",
          "data": {
            "text/plain": [
              "tensor([3, 6, 9], dtype=torch.int32)"
            ]
          },
          "metadata": {},
          "execution_count": 34
        }
      ]
    },
    {
      "cell_type": "code",
      "source": [
        "long_tensor_32=torch.tensor([3,6,9],dtype=torch.long)\n",
        "long_tensor_32"
      ],
      "metadata": {
        "colab": {
          "base_uri": "https://localhost:8080/"
        },
        "id": "utVzn2bAsQMj",
        "outputId": "7cfbccd4-d874-4a06-f541-05fafff08d6a"
      },
      "execution_count": 35,
      "outputs": [
        {
          "output_type": "execute_result",
          "data": {
            "text/plain": [
              "tensor([3, 6, 9])"
            ]
          },
          "metadata": {},
          "execution_count": 35
        }
      ]
    },
    {
      "cell_type": "code",
      "source": [
        "# float_32_tensor * int_32_tensor\n",
        "float_32_tensor * long_tensor_32"
      ],
      "metadata": {
        "colab": {
          "base_uri": "https://localhost:8080/"
        },
        "id": "fTalpyzNr_aM",
        "outputId": "5730bd99-37f6-4c92-cf11-aa1d830b3e85"
      },
      "execution_count": 36,
      "outputs": [
        {
          "output_type": "execute_result",
          "data": {
            "text/plain": [
              "tensor([ 9., 36., 81.])"
            ]
          },
          "metadata": {},
          "execution_count": 36
        }
      ]
    },
    {
      "cell_type": "markdown",
      "source": [
        "###Getting information from tensors(tensor attributes)\n",
        "\n",
        "    1. Tensor incorrect datatype-- to get datatype from a tensor, can use 'tensor.dtype'\n",
        "    2. Tensor incorrect shape-- to get shape from a tensor, use 'tensor.shape'\n",
        "    3. Tensor incorrect device--to get device from a tensor, use 'tensor.device'\n",
        "\n",
        "\n"
      ],
      "metadata": {
        "id": "MjlA7kf0tGVX"
      }
    },
    {
      "cell_type": "code",
      "source": [
        "#create tensor   \n",
        "#s_tensor.size() and s_tensor.shape would give the same thing.\n",
        "s_tensor=torch.rand(3,4)\n",
        "s_tensor"
      ],
      "metadata": {
        "colab": {
          "base_uri": "https://localhost:8080/"
        },
        "id": "vGEhjR3p39oP",
        "outputId": "0738123c-de5f-4272-fc10-d7bc5935bf1a"
      },
      "execution_count": 37,
      "outputs": [
        {
          "output_type": "execute_result",
          "data": {
            "text/plain": [
              "tensor([[0.6880, 0.0352, 0.4284, 0.0326],\n",
              "        [0.6408, 0.5253, 0.6924, 0.5851],\n",
              "        [0.5186, 0.2463, 0.5513, 0.6960]])"
            ]
          },
          "metadata": {},
          "execution_count": 37
        }
      ]
    },
    {
      "cell_type": "code",
      "source": [
        "# find details about s_tensor\n",
        "print(s_tensor)\n",
        "print(f\"Datatype of tensor: {s_tensor.dtype}\")\n",
        "print(f\"Shape of tensor: {s_tensor.shape}\")\n",
        "print(f\"Device tensor is on: {s_tensor.device}\")\n"
      ],
      "metadata": {
        "colab": {
          "base_uri": "https://localhost:8080/"
        },
        "id": "ATergk3Y4OTt",
        "outputId": "ea069a56-eb88-4f97-f4d0-a0035de77dfb"
      },
      "execution_count": 38,
      "outputs": [
        {
          "output_type": "stream",
          "name": "stdout",
          "text": [
            "tensor([[0.6880, 0.0352, 0.4284, 0.0326],\n",
            "        [0.6408, 0.5253, 0.6924, 0.5851],\n",
            "        [0.5186, 0.2463, 0.5513, 0.6960]])\n",
            "Datatype of tensor: torch.float32\n",
            "Shape of tensor: torch.Size([3, 4])\n",
            "Device tensor is on: cpu\n"
          ]
        }
      ]
    },
    {
      "cell_type": "markdown",
      "source": [
        "###Manipulating Tensors(tensor operations)\n",
        "tensor operations:\n",
        "\n",
        "    Addition\n",
        "    Substraction\n",
        "    Multiplication (element-wise)\n",
        "    Division\n",
        "    Matrix multiplication\n"
      ],
      "metadata": {
        "id": "YBXTah2n58uh"
      }
    },
    {
      "cell_type": "code",
      "source": [
        "#create tensor\n",
        "tensorr=torch.tensor([1,2,3])\n",
        "tensorr + 10"
      ],
      "metadata": {
        "colab": {
          "base_uri": "https://localhost:8080/"
        },
        "id": "ui1lJh4o6PMd",
        "outputId": "34c9bc49-4fef-4aaf-bf96-db07ca1a69f4"
      },
      "execution_count": 39,
      "outputs": [
        {
          "output_type": "execute_result",
          "data": {
            "text/plain": [
              "tensor([11, 12, 13])"
            ]
          },
          "metadata": {},
          "execution_count": 39
        }
      ]
    },
    {
      "cell_type": "code",
      "source": [
        "#Multiply tensor by 10\n",
        "tensorr *10"
      ],
      "metadata": {
        "colab": {
          "base_uri": "https://localhost:8080/"
        },
        "id": "QY4RV814775e",
        "outputId": "8e3c54e4-1151-42de-fcaf-7e589df99f88"
      },
      "execution_count": 40,
      "outputs": [
        {
          "output_type": "execute_result",
          "data": {
            "text/plain": [
              "tensor([10, 20, 30])"
            ]
          },
          "metadata": {},
          "execution_count": 40
        }
      ]
    },
    {
      "cell_type": "code",
      "source": [
        "tensorr"
      ],
      "metadata": {
        "colab": {
          "base_uri": "https://localhost:8080/"
        },
        "id": "upPn-8nz8Heq",
        "outputId": "65a8a293-e8e8-4b3c-c5e4-c59bd4a2b663"
      },
      "execution_count": 41,
      "outputs": [
        {
          "output_type": "execute_result",
          "data": {
            "text/plain": [
              "tensor([1, 2, 3])"
            ]
          },
          "metadata": {},
          "execution_count": 41
        }
      ]
    },
    {
      "cell_type": "code",
      "source": [
        "#subtract 10\n",
        "tensorr-10\n"
      ],
      "metadata": {
        "colab": {
          "base_uri": "https://localhost:8080/"
        },
        "id": "BzLXIqht8gqD",
        "outputId": "e8868e26-a2d6-4440-f89d-f2854adfa988"
      },
      "execution_count": 42,
      "outputs": [
        {
          "output_type": "execute_result",
          "data": {
            "text/plain": [
              "tensor([-9, -8, -7])"
            ]
          },
          "metadata": {},
          "execution_count": 42
        }
      ]
    },
    {
      "cell_type": "code",
      "source": [
        "# PyTorch in-built functions\n",
        "torch.mul(tensorr, 10)\n"
      ],
      "metadata": {
        "colab": {
          "base_uri": "https://localhost:8080/"
        },
        "id": "fxgEz08L8rnV",
        "outputId": "4faab255-2036-4180-a4b0-999ce3b35c44"
      },
      "execution_count": 43,
      "outputs": [
        {
          "output_type": "execute_result",
          "data": {
            "text/plain": [
              "tensor([10, 20, 30])"
            ]
          },
          "metadata": {},
          "execution_count": 43
        }
      ]
    },
    {
      "cell_type": "code",
      "source": [
        "torch.add(tensorr, 10)"
      ],
      "metadata": {
        "colab": {
          "base_uri": "https://localhost:8080/"
        },
        "id": "F2a9Q7r69XqT",
        "outputId": "1b382a01-9b83-4cb7-e05e-f0685b1674eb"
      },
      "execution_count": 44,
      "outputs": [
        {
          "output_type": "execute_result",
          "data": {
            "text/plain": [
              "tensor([11, 12, 13])"
            ]
          },
          "metadata": {},
          "execution_count": 44
        }
      ]
    },
    {
      "cell_type": "markdown",
      "source": [
        "### Matrix Multiplication\n",
        "Two ways of multiplication in NN and DL:\n",
        "1. Element wise\n",
        "2. Matrix multiplication(dot product)\n",
        " More info-https://www.mathsisfun.com/algebra/matrix-multiplying.html\n",
        "\n",
        "Two rules matrix multiplication needs to satisfy:\n",
        "1. The **inner dimensions** must match:\n",
        " *'(3,2) @ (3,2)'  won't work\n",
        " * '(2,3) @ (3,2)' will work\n",
        " * '(3,2) @ (2,3)' will work\n",
        "2. The resulting matrix has the shape of the **outer dimensions**:\n",
        "* '(2,3) @ (3,2)'-> '(2,2)'\n",
        "* '(3,2) @ (2,3)'->'(3,3)'\n",
        "\n",
        "\n"
      ],
      "metadata": {
        "id": "MVt1mcRf-brj"
      }
    },
    {
      "cell_type": "code",
      "source": [
        "# torch.matmul(torch.rand(2,3),torch.rand(3,2))\n",
        "# torch.matmul(torch.rand(3,2),torch.rand(3,2))\n",
        "torch.matmul(torch.rand(3,10),torch.rand(10,3))\n"
      ],
      "metadata": {
        "colab": {
          "base_uri": "https://localhost:8080/"
        },
        "id": "HICMPvN1SrHW",
        "outputId": "e6c76470-ea1b-472e-e1f5-ff6a81e989ca"
      },
      "execution_count": 45,
      "outputs": [
        {
          "output_type": "execute_result",
          "data": {
            "text/plain": [
              "tensor([[1.8320, 1.8398, 1.5295],\n",
              "        [2.3229, 3.0681, 2.1241],\n",
              "        [2.1497, 3.0416, 2.2389]])"
            ]
          },
          "metadata": {},
          "execution_count": 45
        }
      ]
    },
    {
      "cell_type": "code",
      "source": [
        "#Element wise multiplication.\n",
        "print(tensorr,\"*\",tensorr)\n",
        "print(f\"Equals: {tensorr * tensorr}\")\n"
      ],
      "metadata": {
        "colab": {
          "base_uri": "https://localhost:8080/"
        },
        "id": "Oiah-9WN_ihW",
        "outputId": "7da37706-a0c2-42ef-f441-680685846de1"
      },
      "execution_count": 46,
      "outputs": [
        {
          "output_type": "stream",
          "name": "stdout",
          "text": [
            "tensor([1, 2, 3]) * tensor([1, 2, 3])\n",
            "Equals: tensor([1, 4, 9])\n"
          ]
        }
      ]
    },
    {
      "cell_type": "code",
      "source": [
        "#Matrix Multiplication\n",
        "torch.matmul(tensorr,tensorr)"
      ],
      "metadata": {
        "colab": {
          "base_uri": "https://localhost:8080/"
        },
        "id": "el4z9PRPBIK_",
        "outputId": "80cc41b2-37a5-4f05-a939-42c0c2ecb062"
      },
      "execution_count": 47,
      "outputs": [
        {
          "output_type": "execute_result",
          "data": {
            "text/plain": [
              "tensor(14)"
            ]
          },
          "metadata": {},
          "execution_count": 47
        }
      ]
    },
    {
      "cell_type": "code",
      "source": [
        "#Matrix Multiplication by hand\n",
        "1*1+2*2+3*3"
      ],
      "metadata": {
        "colab": {
          "base_uri": "https://localhost:8080/"
        },
        "id": "Fo1fmLDZExU4",
        "outputId": "83cc899c-7334-470b-8ddb-774708b926a8"
      },
      "execution_count": 48,
      "outputs": [
        {
          "output_type": "execute_result",
          "data": {
            "text/plain": [
              "14"
            ]
          },
          "metadata": {},
          "execution_count": 48
        }
      ]
    },
    {
      "cell_type": "code",
      "source": [
        "%%time\n",
        "value=0\n",
        "for i in range(len(tensorr)):\n",
        "    value+=tensorr[i] * tensorr[i]\n",
        "print(value)\n",
        "\n",
        "\n",
        "\n"
      ],
      "metadata": {
        "colab": {
          "base_uri": "https://localhost:8080/"
        },
        "id": "kSLIr4y6LB0h",
        "outputId": "d98de9eb-ddac-43fa-feff-309164e355d6"
      },
      "execution_count": 49,
      "outputs": [
        {
          "output_type": "stream",
          "name": "stdout",
          "text": [
            "tensor(14)\n",
            "CPU times: user 490 µs, sys: 0 ns, total: 490 µs\n",
            "Wall time: 506 µs\n"
          ]
        }
      ]
    },
    {
      "cell_type": "code",
      "source": [
        "%%time\n",
        "torch.matmul(tensorr,tensorr)"
      ],
      "metadata": {
        "colab": {
          "base_uri": "https://localhost:8080/"
        },
        "id": "HCdNKotQL_zB",
        "outputId": "a84404de-dfd5-426a-846e-1b7ef5779c0c"
      },
      "execution_count": 50,
      "outputs": [
        {
          "output_type": "stream",
          "name": "stdout",
          "text": [
            "CPU times: user 39 µs, sys: 5 µs, total: 44 µs\n",
            "Wall time: 47.9 µs\n"
          ]
        },
        {
          "output_type": "execute_result",
          "data": {
            "text/plain": [
              "tensor(14)"
            ]
          },
          "metadata": {},
          "execution_count": 50
        }
      ]
    },
    {
      "cell_type": "markdown",
      "source": [
        "###One of the most common errors in DL: Shape Errors"
      ],
      "metadata": {
        "id": "RMFFf6KuNOoJ"
      }
    },
    {
      "cell_type": "code",
      "source": [
        "# Shapes for matrix multiplication\n",
        "tensor_A=torch.tensor([[1,2],[3,4],[5,6]])\n",
        "tensor_B=torch.tensor([[7,10],[8,11],[9,12]])\n",
        "\n",
        "torch.mm(tensor_A,tensor_B)#torch.mm is same as torch.matmul(alias)\n",
        "\n"
      ],
      "metadata": {
        "colab": {
          "base_uri": "https://localhost:8080/",
          "height": 223
        },
        "id": "YF-OPFXTNYM2",
        "outputId": "a0ccb59c-8017-4046-9fcc-0832132afbb4"
      },
      "execution_count": 52,
      "outputs": [
        {
          "output_type": "error",
          "ename": "RuntimeError",
          "evalue": "ignored",
          "traceback": [
            "\u001b[0;31m---------------------------------------------------------------------------\u001b[0m",
            "\u001b[0;31mRuntimeError\u001b[0m                              Traceback (most recent call last)",
            "\u001b[0;32m<ipython-input-52-ace02d66cc5c>\u001b[0m in \u001b[0;36m<cell line: 5>\u001b[0;34m()\u001b[0m\n\u001b[1;32m      3\u001b[0m \u001b[0mtensor_B\u001b[0m\u001b[0;34m=\u001b[0m\u001b[0mtorch\u001b[0m\u001b[0;34m.\u001b[0m\u001b[0mtensor\u001b[0m\u001b[0;34m(\u001b[0m\u001b[0;34m[\u001b[0m\u001b[0;34m[\u001b[0m\u001b[0;36m7\u001b[0m\u001b[0;34m,\u001b[0m\u001b[0;36m10\u001b[0m\u001b[0;34m]\u001b[0m\u001b[0;34m,\u001b[0m\u001b[0;34m[\u001b[0m\u001b[0;36m8\u001b[0m\u001b[0;34m,\u001b[0m\u001b[0;36m11\u001b[0m\u001b[0;34m]\u001b[0m\u001b[0;34m,\u001b[0m\u001b[0;34m[\u001b[0m\u001b[0;36m9\u001b[0m\u001b[0;34m,\u001b[0m\u001b[0;36m12\u001b[0m\u001b[0;34m]\u001b[0m\u001b[0;34m]\u001b[0m\u001b[0;34m)\u001b[0m\u001b[0;34m\u001b[0m\u001b[0;34m\u001b[0m\u001b[0m\n\u001b[1;32m      4\u001b[0m \u001b[0;34m\u001b[0m\u001b[0m\n\u001b[0;32m----> 5\u001b[0;31m \u001b[0mtorch\u001b[0m\u001b[0;34m.\u001b[0m\u001b[0mmm\u001b[0m\u001b[0;34m(\u001b[0m\u001b[0mtensor_A\u001b[0m\u001b[0;34m,\u001b[0m\u001b[0mtensor_B\u001b[0m\u001b[0;34m)\u001b[0m\u001b[0;31m#torch.mm is same as torch.matmul(alias)\u001b[0m\u001b[0;34m\u001b[0m\u001b[0;34m\u001b[0m\u001b[0m\n\u001b[0m\u001b[1;32m      6\u001b[0m \u001b[0;34m\u001b[0m\u001b[0m\n",
            "\u001b[0;31mRuntimeError\u001b[0m: mat1 and mat2 shapes cannot be multiplied (3x2 and 3x2)"
          ]
        }
      ]
    },
    {
      "cell_type": "code",
      "source": [
        "tensor_A.shape, tensor_B.shape"
      ],
      "metadata": {
        "colab": {
          "base_uri": "https://localhost:8080/"
        },
        "id": "yYN3n4FtWcrG",
        "outputId": "c9e15fff-582a-4698-e683-4698b369d92c"
      },
      "execution_count": 53,
      "outputs": [
        {
          "output_type": "execute_result",
          "data": {
            "text/plain": [
              "(torch.Size([3, 2]), torch.Size([3, 2]))"
            ]
          },
          "metadata": {},
          "execution_count": 53
        }
      ]
    },
    {
      "cell_type": "markdown",
      "source": [
        "#To fix tensor shape issues, we can manipulate the shape of one of our tensors using a **transpose**\n",
        " **transpose** switches the axes or dimensions of a given tensor."
      ],
      "metadata": {
        "id": "u5TpCBoOWjTf"
      }
    },
    {
      "cell_type": "code",
      "source": [
        "tensor_B.T"
      ],
      "metadata": {
        "colab": {
          "base_uri": "https://localhost:8080/"
        },
        "id": "xp_dT3orXURT",
        "outputId": "29af21cf-0914-497f-f244-d86c858317dd"
      },
      "execution_count": 54,
      "outputs": [
        {
          "output_type": "execute_result",
          "data": {
            "text/plain": [
              "tensor([[ 7,  8,  9],\n",
              "        [10, 11, 12]])"
            ]
          },
          "metadata": {},
          "execution_count": 54
        }
      ]
    },
    {
      "cell_type": "code",
      "source": [
        "tensor_B"
      ],
      "metadata": {
        "colab": {
          "base_uri": "https://localhost:8080/"
        },
        "id": "_u19449BXc5X",
        "outputId": "966d5407-067f-47ee-be5f-90c9e8b80bf7"
      },
      "execution_count": 55,
      "outputs": [
        {
          "output_type": "execute_result",
          "data": {
            "text/plain": [
              "tensor([[ 7, 10],\n",
              "        [ 8, 11],\n",
              "        [ 9, 12]])"
            ]
          },
          "metadata": {},
          "execution_count": 55
        }
      ]
    },
    {
      "cell_type": "code",
      "source": [
        "tensor_B.T.shape"
      ],
      "metadata": {
        "colab": {
          "base_uri": "https://localhost:8080/"
        },
        "id": "fJe8A27hXisG",
        "outputId": "7c35f5d7-9fed-4766-cbc3-fa1a5b5b69e3"
      },
      "execution_count": 56,
      "outputs": [
        {
          "output_type": "execute_result",
          "data": {
            "text/plain": [
              "torch.Size([2, 3])"
            ]
          },
          "metadata": {},
          "execution_count": 56
        }
      ]
    },
    {
      "cell_type": "code",
      "source": [
        "# The matrix multiplication operation works when tensor_B is transposed.\n",
        "print(f\"Original shapes: tensor_A={tensor_A.shape},tensor_B={tensor_B.shape}\")\n",
        "print(f\"New shapes: tensor_A={tensor_A.shape} (same shape as above), tensor_B={tensor_B.T.shape}\")\n",
        "print(f\"Multiplying: {tensor_A.shape} @ {tensor_B.T.shape}<- inner dimensions must match\")\n",
        "print(\"Output:\\n\")\n",
        "output=torch.matmul(tensor_A,tensor_B.T)\n",
        "print(output)\n",
        "print(f\"\\nOutput shape:{output.shape}\")\n",
        "torch.matmul(tensor_A,tensor_B.T).shape"
      ],
      "metadata": {
        "colab": {
          "base_uri": "https://localhost:8080/"
        },
        "id": "bf__MCnQX7LG",
        "outputId": "8cc676bb-2c29-409c-e410-7b7c80f0d718"
      },
      "execution_count": 57,
      "outputs": [
        {
          "output_type": "stream",
          "name": "stdout",
          "text": [
            "Original shapes: tensor_A=torch.Size([3, 2]),tensor_B=torch.Size([3, 2])\n",
            "New shapes: tensor_A=torch.Size([3, 2]) (same shape as above), tensor_B=torch.Size([2, 3])\n",
            "Multiplying: torch.Size([3, 2]) @ torch.Size([2, 3])<- inner dimensions must match\n",
            "Output:\n",
            "\n",
            "tensor([[ 27,  30,  33],\n",
            "        [ 61,  68,  75],\n",
            "        [ 95, 106, 117]])\n",
            "\n",
            "Output shape:torch.Size([3, 3])\n"
          ]
        },
        {
          "output_type": "execute_result",
          "data": {
            "text/plain": [
              "torch.Size([3, 3])"
            ]
          },
          "metadata": {},
          "execution_count": 57
        }
      ]
    },
    {
      "cell_type": "markdown",
      "source": [
        "##Finding the min,max,mean, sum, etc(tensor aggregation)"
      ],
      "metadata": {
        "id": "589PkUNQbNdP"
      }
    },
    {
      "cell_type": "code",
      "source": [
        "#Create a tensor\n",
        "ten1=torch.arange(1, 100, 10)\n",
        "ten1, ten1.dtype\n"
      ],
      "metadata": {
        "id": "uWRzYQe7Zead",
        "colab": {
          "base_uri": "https://localhost:8080/"
        },
        "outputId": "37632fd8-23a6-494f-c8eb-013ef35c8403"
      },
      "execution_count": 58,
      "outputs": [
        {
          "output_type": "execute_result",
          "data": {
            "text/plain": [
              "(tensor([ 1, 11, 21, 31, 41, 51, 61, 71, 81, 91]), torch.int64)"
            ]
          },
          "metadata": {},
          "execution_count": 58
        }
      ]
    },
    {
      "cell_type": "code",
      "source": [
        "torch.min(ten1),ten1.min()"
      ],
      "metadata": {
        "colab": {
          "base_uri": "https://localhost:8080/"
        },
        "id": "1h5uldkaPCrb",
        "outputId": "691c6618-d999-4aa3-b9d2-18eb29a4707a"
      },
      "execution_count": 59,
      "outputs": [
        {
          "output_type": "execute_result",
          "data": {
            "text/plain": [
              "(tensor(1), tensor(1))"
            ]
          },
          "metadata": {},
          "execution_count": 59
        }
      ]
    },
    {
      "cell_type": "code",
      "source": [
        "#Find the max\n",
        "torch.max(ten1),ten1.max()"
      ],
      "metadata": {
        "colab": {
          "base_uri": "https://localhost:8080/"
        },
        "id": "qdhaOX6RPVce",
        "outputId": "d602749b-1ed6-42be-ad36-56c4155f91a9"
      },
      "execution_count": 60,
      "outputs": [
        {
          "output_type": "execute_result",
          "data": {
            "text/plain": [
              "(tensor(91), tensor(91))"
            ]
          },
          "metadata": {},
          "execution_count": 60
        }
      ]
    },
    {
      "cell_type": "code",
      "source": [
        "#Find the mean\n",
        "# torch.mean(ten1) this will give datatype error mean cannot work with long requires float32 datatype\n",
        "torch.mean(ten1.type(torch.float32)), ten1.type(torch.float32).mean()\n"
      ],
      "metadata": {
        "colab": {
          "base_uri": "https://localhost:8080/"
        },
        "id": "0bXyhYY_PyZ5",
        "outputId": "c55a180d-4ebd-48a4-b982-1d5a9f6fc4f4"
      },
      "execution_count": 61,
      "outputs": [
        {
          "output_type": "execute_result",
          "data": {
            "text/plain": [
              "(tensor(46.), tensor(46.))"
            ]
          },
          "metadata": {},
          "execution_count": 61
        }
      ]
    },
    {
      "cell_type": "code",
      "source": [
        "#Find the sum\n",
        "torch.sum(ten1),ten1.sum()"
      ],
      "metadata": {
        "colab": {
          "base_uri": "https://localhost:8080/"
        },
        "id": "i7CCqusvRzlC",
        "outputId": "3502f90a-a01b-48ca-9aa5-7fc8edcc9c08"
      },
      "execution_count": 62,
      "outputs": [
        {
          "output_type": "execute_result",
          "data": {
            "text/plain": [
              "(tensor(460), tensor(460))"
            ]
          },
          "metadata": {},
          "execution_count": 62
        }
      ]
    },
    {
      "cell_type": "markdown",
      "source": [
        "##Finding the positional min and max"
      ],
      "metadata": {
        "id": "gGKazQGoS9Lh"
      }
    },
    {
      "cell_type": "code",
      "source": [
        "ten1"
      ],
      "metadata": {
        "colab": {
          "base_uri": "https://localhost:8080/"
        },
        "id": "fmWnGj1PUPsM",
        "outputId": "351c0c0c-e4b7-4bb0-d739-9fde3c2c49ca"
      },
      "execution_count": 63,
      "outputs": [
        {
          "output_type": "execute_result",
          "data": {
            "text/plain": [
              "tensor([ 1, 11, 21, 31, 41, 51, 61, 71, 81, 91])"
            ]
          },
          "metadata": {},
          "execution_count": 63
        }
      ]
    },
    {
      "cell_type": "code",
      "source": [
        "ten1.argmin() #returns the index position of target where the minimum value occurs."
      ],
      "metadata": {
        "colab": {
          "base_uri": "https://localhost:8080/"
        },
        "id": "LRSrjrl_USMA",
        "outputId": "ca5f093d-e7e7-4507-afc9-241a660f6962"
      },
      "execution_count": 64,
      "outputs": [
        {
          "output_type": "execute_result",
          "data": {
            "text/plain": [
              "tensor(0)"
            ]
          },
          "metadata": {},
          "execution_count": 64
        }
      ]
    },
    {
      "cell_type": "code",
      "source": [
        "ten1[0]"
      ],
      "metadata": {
        "colab": {
          "base_uri": "https://localhost:8080/"
        },
        "id": "2pq-CSeqUZWY",
        "outputId": "de11f413-dd32-4a44-9cc0-2629946c0707"
      },
      "execution_count": 65,
      "outputs": [
        {
          "output_type": "execute_result",
          "data": {
            "text/plain": [
              "tensor(1)"
            ]
          },
          "metadata": {},
          "execution_count": 65
        }
      ]
    },
    {
      "cell_type": "code",
      "source": [
        "#position in tensor thta has the maximum value.\n",
        "ten1.argmax()"
      ],
      "metadata": {
        "colab": {
          "base_uri": "https://localhost:8080/"
        },
        "id": "BMsgxKL5UxsC",
        "outputId": "3c0b88c1-ed26-4742-cc8d-0dd85a1a5070"
      },
      "execution_count": 66,
      "outputs": [
        {
          "output_type": "execute_result",
          "data": {
            "text/plain": [
              "tensor(9)"
            ]
          },
          "metadata": {},
          "execution_count": 66
        }
      ]
    },
    {
      "cell_type": "code",
      "source": [
        "ten1[9]"
      ],
      "metadata": {
        "colab": {
          "base_uri": "https://localhost:8080/"
        },
        "id": "GgS_LH00VmA-",
        "outputId": "40f5df49-f4a8-4c1e-9430-1c0b52da00b7"
      },
      "execution_count": 67,
      "outputs": [
        {
          "output_type": "execute_result",
          "data": {
            "text/plain": [
              "tensor(91)"
            ]
          },
          "metadata": {},
          "execution_count": 67
        }
      ]
    },
    {
      "cell_type": "markdown",
      "source": [
        "###Resshaping, stacking,squeezing and unsqueezing tensors\n",
        "\n",
        "*Reshaping - Reshapes an input tensor to a defined shape.\n",
        "\n",
        "*View- Return a view of an input tensor of certain shape but keep the same memory as the original tensor.\n",
        "\n",
        "*Stacking- combine multiple tensors on top of each other(vstack) or side by side(hstack)\n",
        "\n",
        "*Squeeze -removes all '1' dimensions from a tensor\n",
        "\n",
        "*Unsqueeze- add a '1' dimension to a target tensor.\n",
        "\n",
        "*Permute- returns a view of the input with dimensions permuted(swapped) in a certain way\n",
        "\n",
        "\n"
      ],
      "metadata": {
        "id": "MN1H-duEVpIC"
      }
    },
    {
      "cell_type": "code",
      "source": [
        "#Create a tensor\n",
        "import torch\n",
        "t=torch.arange(1,11)\n",
        "t,t.shape"
      ],
      "metadata": {
        "colab": {
          "base_uri": "https://localhost:8080/"
        },
        "id": "d2m7MBSHXP_0",
        "outputId": "1c7171ab-eb0f-4d05-c879-886fe35724f7"
      },
      "execution_count": 68,
      "outputs": [
        {
          "output_type": "execute_result",
          "data": {
            "text/plain": [
              "(tensor([ 1,  2,  3,  4,  5,  6,  7,  8,  9, 10]), torch.Size([10]))"
            ]
          },
          "metadata": {},
          "execution_count": 68
        }
      ]
    },
    {
      "cell_type": "code",
      "source": [
        "#Add an extra dimension,reshape has to be compatible with the original size.\n",
        "# t_reshaped=t.reshape(1,7) this will produce error squeezing 9 elements into a tensor of size 7\n",
        "# t_reshaped=t.reshape(1,9) # single dimension gets added.\n",
        "t_reshaped=t.reshape(10,1)\n",
        "t_reshaped, t_reshaped.shape\n",
        "\n"
      ],
      "metadata": {
        "colab": {
          "base_uri": "https://localhost:8080/"
        },
        "id": "OSgaVfasZ-Kn",
        "outputId": "b71d66e1-59ff-4d85-c353-7dba30561644"
      },
      "execution_count": 69,
      "outputs": [
        {
          "output_type": "execute_result",
          "data": {
            "text/plain": [
              "(tensor([[ 1],\n",
              "         [ 2],\n",
              "         [ 3],\n",
              "         [ 4],\n",
              "         [ 5],\n",
              "         [ 6],\n",
              "         [ 7],\n",
              "         [ 8],\n",
              "         [ 9],\n",
              "         [10]]),\n",
              " torch.Size([10, 1]))"
            ]
          },
          "metadata": {},
          "execution_count": 69
        }
      ]
    },
    {
      "cell_type": "code",
      "source": [
        "t_reshaped2=t.reshape(5,2)\n",
        "t_reshaped2, t_reshaped.shape"
      ],
      "metadata": {
        "colab": {
          "base_uri": "https://localhost:8080/"
        },
        "id": "1TIs3Ud0Z-qx",
        "outputId": "cb6b2521-576f-4973-afcd-5a619668ed26"
      },
      "execution_count": 70,
      "outputs": [
        {
          "output_type": "execute_result",
          "data": {
            "text/plain": [
              "(tensor([[ 1,  2],\n",
              "         [ 3,  4],\n",
              "         [ 5,  6],\n",
              "         [ 7,  8],\n",
              "         [ 9, 10]]),\n",
              " torch.Size([10, 1]))"
            ]
          },
          "metadata": {},
          "execution_count": 70
        }
      ]
    },
    {
      "cell_type": "code",
      "source": [
        "import torch\n",
        "t1=torch.arange(1,10)\n",
        "t1,t1.shape"
      ],
      "metadata": {
        "colab": {
          "base_uri": "https://localhost:8080/"
        },
        "id": "RL8Iev9VZ_Eh",
        "outputId": "2ac00ffa-0137-45ce-88ec-8b75fcaeaa10"
      },
      "execution_count": 71,
      "outputs": [
        {
          "output_type": "execute_result",
          "data": {
            "text/plain": [
              "(tensor([1, 2, 3, 4, 5, 6, 7, 8, 9]), torch.Size([9]))"
            ]
          },
          "metadata": {},
          "execution_count": 71
        }
      ]
    },
    {
      "cell_type": "code",
      "source": [
        "t1_reshaped=t1.reshape(1,9)\n",
        "t1_reshaped,t1_reshaped.shape"
      ],
      "metadata": {
        "colab": {
          "base_uri": "https://localhost:8080/"
        },
        "id": "JlQJdtrukwkH",
        "outputId": "e72a9844-0b94-491f-92d6-358b745ba7e3"
      },
      "execution_count": 72,
      "outputs": [
        {
          "output_type": "execute_result",
          "data": {
            "text/plain": [
              "(tensor([[1, 2, 3, 4, 5, 6, 7, 8, 9]]), torch.Size([1, 9]))"
            ]
          },
          "metadata": {},
          "execution_count": 72
        }
      ]
    },
    {
      "cell_type": "code",
      "source": [
        "#Change the view --z is just different view of t1---view similar to reshape. View shares the memory with the original tensor.\n",
        "z=t1.view(1,9)\n",
        "z, z.shape"
      ],
      "metadata": {
        "colab": {
          "base_uri": "https://localhost:8080/"
        },
        "id": "_XTt53KvlPKN",
        "outputId": "3abb6c39-a337-48cd-d9f4-af58864c3357"
      },
      "execution_count": 73,
      "outputs": [
        {
          "output_type": "execute_result",
          "data": {
            "text/plain": [
              "(tensor([[1, 2, 3, 4, 5, 6, 7, 8, 9]]), torch.Size([1, 9]))"
            ]
          },
          "metadata": {},
          "execution_count": 73
        }
      ]
    },
    {
      "cell_type": "markdown",
      "source": [
        "## Python slicing w3c."
      ],
      "metadata": {
        "id": "dziwgt01nOGG"
      }
    },
    {
      "cell_type": "code",
      "source": [
        "# Changing z changes x(because a view of a tensor shares the same memory as the orignal input)\n",
        "z[:,0]=5\n",
        "z,t1 # both gets changed."
      ],
      "metadata": {
        "colab": {
          "base_uri": "https://localhost:8080/"
        },
        "id": "rCKBNPfgmbNI",
        "outputId": "e324fa2a-71bc-468d-b7e6-1965dd996d49"
      },
      "execution_count": 74,
      "outputs": [
        {
          "output_type": "execute_result",
          "data": {
            "text/plain": [
              "(tensor([[5, 2, 3, 4, 5, 6, 7, 8, 9]]), tensor([5, 2, 3, 4, 5, 6, 7, 8, 9]))"
            ]
          },
          "metadata": {},
          "execution_count": 74
        }
      ]
    },
    {
      "cell_type": "code",
      "source": [
        "# Stack tensors on top of each other.\n",
        "t1_stacked= torch.stack([t1,t1,t1,t1],dim=0)\n",
        "t1_stacked\n",
        "\n",
        "\n"
      ],
      "metadata": {
        "colab": {
          "base_uri": "https://localhost:8080/"
        },
        "id": "koO_MeWOooze",
        "outputId": "6f5f5c16-9fdd-4e98-8c24-ad12abb4fa65"
      },
      "execution_count": 75,
      "outputs": [
        {
          "output_type": "execute_result",
          "data": {
            "text/plain": [
              "tensor([[5, 2, 3, 4, 5, 6, 7, 8, 9],\n",
              "        [5, 2, 3, 4, 5, 6, 7, 8, 9],\n",
              "        [5, 2, 3, 4, 5, 6, 7, 8, 9],\n",
              "        [5, 2, 3, 4, 5, 6, 7, 8, 9]])"
            ]
          },
          "metadata": {},
          "execution_count": 75
        }
      ]
    },
    {
      "cell_type": "code",
      "source": [
        "### vstack means dimension=0 and hstack means dimension is 1."
      ],
      "metadata": {
        "id": "zmjbIyN9oqWX"
      },
      "execution_count": 76,
      "outputs": []
    },
    {
      "cell_type": "code",
      "source": [
        "#torch.squeeze() - removes all single dimensions from a target tensor\n",
        "print(f\"Previous tensor:{t1_reshaped}\")\n",
        "print(f\"Previous shape: {t1_reshaped.shape} \")\n",
        "#remove extra dimensions from t1_reshaped\n",
        "t1_squeezed=t1_reshaped.squeeze()\n",
        "print(f\"\\nNew tensor: {t1_squeezed}\")\n",
        "print(f\"New shape:{t1_squeezed.shape}\")\n",
        "\n",
        "\n",
        "# t1_reshaped,t1_reshaped.shape"
      ],
      "metadata": {
        "colab": {
          "base_uri": "https://localhost:8080/"
        },
        "id": "dSCa_FwgoqtD",
        "outputId": "b8662df9-f955-4903-b90c-9022c7936af5"
      },
      "execution_count": 77,
      "outputs": [
        {
          "output_type": "stream",
          "name": "stdout",
          "text": [
            "Previous tensor:tensor([[5, 2, 3, 4, 5, 6, 7, 8, 9]])\n",
            "Previous shape: torch.Size([1, 9]) \n",
            "\n",
            "New tensor: tensor([5, 2, 3, 4, 5, 6, 7, 8, 9])\n",
            "New shape:torch.Size([9])\n"
          ]
        }
      ]
    },
    {
      "cell_type": "code",
      "source": [
        "# t1_reshaped.squeeze()"
      ],
      "metadata": {
        "id": "j18SGlqtorD7"
      },
      "execution_count": 78,
      "outputs": []
    },
    {
      "cell_type": "code",
      "source": [
        "# t1_reshaped.squeeze().shape # squeeze remove all 1s i.e. single dimensions"
      ],
      "metadata": {
        "id": "28BHZ5fUt7e1"
      },
      "execution_count": 79,
      "outputs": []
    },
    {
      "cell_type": "code",
      "source": [
        "# torch.unsqueeze()-- adds a single dim to a target tensor at a secific dim(dimension)\n",
        "print(f\"Prevoius target: {t1_squeezed}\")\n",
        "print(f\"Previous shape: {t1_squeezed.shape}\")\n",
        "\n",
        "# Add an extra dimension with unsqueeze\n",
        "\n",
        "t1_unsqueezed= t1_squeezed.unsqueeze(dim=0)\n",
        "print(f\"\\n New tensor:{t1_unsqueezed}\")\n",
        "print(f\"New shape: {t1_unsqueezed.shape}\")\n",
        "\n",
        "\n",
        "\n"
      ],
      "metadata": {
        "colab": {
          "base_uri": "https://localhost:8080/"
        },
        "id": "qD3swPAfuPQr",
        "outputId": "2e0b51e2-7be4-4e5b-a507-388a9707b5d9"
      },
      "execution_count": 80,
      "outputs": [
        {
          "output_type": "stream",
          "name": "stdout",
          "text": [
            "Prevoius target: tensor([5, 2, 3, 4, 5, 6, 7, 8, 9])\n",
            "Previous shape: torch.Size([9])\n",
            "\n",
            " New tensor:tensor([[5, 2, 3, 4, 5, 6, 7, 8, 9]])\n",
            "New shape: torch.Size([1, 9])\n"
          ]
        }
      ]
    },
    {
      "cell_type": "code",
      "source": [
        "# torch.unsqueeze()-- adds a single dim to a target tensor at a secific dim(dimension)\n",
        "print(f\"Prevoius target: {t1_squeezed}\")\n",
        "print(f\"Previous shape: {t1_squeezed.shape}\")\n",
        "\n",
        "# Add an extra dimension with unsqueeze\n",
        "\n",
        "t2_unsqueezed= t1_squeezed.unsqueeze(dim=1)\n",
        "print(f\"\\n New tensor:{t2_unsqueezed}\")\n",
        "print(f\"New shape: {t2_unsqueezed.shape}\")"
      ],
      "metadata": {
        "colab": {
          "base_uri": "https://localhost:8080/"
        },
        "id": "HxXtWi-QzAh6",
        "outputId": "8ca02b26-87c3-487e-c6d5-6c31054af75c"
      },
      "execution_count": 81,
      "outputs": [
        {
          "output_type": "stream",
          "name": "stdout",
          "text": [
            "Prevoius target: tensor([5, 2, 3, 4, 5, 6, 7, 8, 9])\n",
            "Previous shape: torch.Size([9])\n",
            "\n",
            " New tensor:tensor([[5],\n",
            "        [2],\n",
            "        [3],\n",
            "        [4],\n",
            "        [5],\n",
            "        [6],\n",
            "        [7],\n",
            "        [8],\n",
            "        [9]])\n",
            "New shape: torch.Size([9, 1])\n"
          ]
        }
      ]
    },
    {
      "cell_type": "code",
      "source": [
        "# torch.permute rearanges the dimensions of a target tensor in a specified order\n",
        "t_original=torch.rand(size=(224,224,3)) #[height,width,colour_channels]\n",
        "\n",
        "#Permute the original tensor to rearrange the axis(or dim) order\n",
        "t_permuted=t_original.permute(2,0,1) # it takes series of dims. shifts axis 0->1,1->2,2->0\n",
        "\n",
        "print(f\"Previous shape:{t_original.shape}\")\n",
        "print(f\"New shape: {t_permuted.shape}\") #[colour channels,height,width]\n",
        "\n",
        "# t_permuted will share the same place in memory as t_original.\n",
        "\n",
        "\n"
      ],
      "metadata": {
        "colab": {
          "base_uri": "https://localhost:8080/"
        },
        "id": "LCsXE5tBzrj2",
        "outputId": "b87c363a-49c0-4b34-bdf2-981993c742ca"
      },
      "execution_count": 82,
      "outputs": [
        {
          "output_type": "stream",
          "name": "stdout",
          "text": [
            "Previous shape:torch.Size([224, 224, 3])\n",
            "New shape: torch.Size([3, 224, 224])\n"
          ]
        }
      ]
    },
    {
      "cell_type": "code",
      "source": [
        "t_original[0,0,0]=898\n",
        "\n",
        "t_permuted[0,0,0],t_original[0,0,0] # same value gets copied."
      ],
      "metadata": {
        "colab": {
          "base_uri": "https://localhost:8080/"
        },
        "id": "rLH5bclO3617",
        "outputId": "a6dada36-e567-41bb-c38e-5b18b5dd16ce"
      },
      "execution_count": 83,
      "outputs": [
        {
          "output_type": "execute_result",
          "data": {
            "text/plain": [
              "(tensor(898.), tensor(898.))"
            ]
          },
          "metadata": {},
          "execution_count": 83
        }
      ]
    },
    {
      "cell_type": "markdown",
      "source": [
        "### Indexing (selecting data from tensors)\n",
        "Indexing with PyTorch is similar to indexing with NumPy."
      ],
      "metadata": {
        "id": "-qJd4EPq49fQ"
      }
    },
    {
      "cell_type": "code",
      "source": [
        "# create a tensor\n",
        "import torch\n",
        "ti=torch.arange(1,10).reshape(1,3,3) # 1*3*3=9\n",
        "ti,ti.shape"
      ],
      "metadata": {
        "colab": {
          "base_uri": "https://localhost:8080/"
        },
        "id": "GHswRPQN5a7o",
        "outputId": "b116562d-1c0b-483c-ea5e-f13cdb719749"
      },
      "execution_count": 84,
      "outputs": [
        {
          "output_type": "execute_result",
          "data": {
            "text/plain": [
              "(tensor([[[1, 2, 3],\n",
              "          [4, 5, 6],\n",
              "          [7, 8, 9]]]),\n",
              " torch.Size([1, 3, 3]))"
            ]
          },
          "metadata": {},
          "execution_count": 84
        }
      ]
    },
    {
      "cell_type": "code",
      "source": [
        "#index on our new tensor\n",
        "ti[0]\n"
      ],
      "metadata": {
        "colab": {
          "base_uri": "https://localhost:8080/"
        },
        "id": "omaf05Cd5hS6",
        "outputId": "1280294e-3b49-4fef-ad27-fd1a802d7a50"
      },
      "execution_count": 85,
      "outputs": [
        {
          "output_type": "execute_result",
          "data": {
            "text/plain": [
              "tensor([[1, 2, 3],\n",
              "        [4, 5, 6],\n",
              "        [7, 8, 9]])"
            ]
          },
          "metadata": {},
          "execution_count": 85
        }
      ]
    },
    {
      "cell_type": "code",
      "source": [
        "#index on middle bracket(dim=1)\n",
        "ti[0][0]\n"
      ],
      "metadata": {
        "colab": {
          "base_uri": "https://localhost:8080/"
        },
        "id": "APK49Ytn5hyl",
        "outputId": "49f40344-2703-453f-8fd5-83e75d309d6e"
      },
      "execution_count": 86,
      "outputs": [
        {
          "output_type": "execute_result",
          "data": {
            "text/plain": [
              "tensor([1, 2, 3])"
            ]
          },
          "metadata": {},
          "execution_count": 86
        }
      ]
    },
    {
      "cell_type": "code",
      "source": [
        "#index on the most inner bracket(last dimension)\n",
        "ti[0][0][1]"
      ],
      "metadata": {
        "colab": {
          "base_uri": "https://localhost:8080/"
        },
        "id": "Pt2rFl_Y5iDd",
        "outputId": "bcaab091-4212-4a0e-de79-f266a5aabf5d"
      },
      "execution_count": 87,
      "outputs": [
        {
          "output_type": "execute_result",
          "data": {
            "text/plain": [
              "tensor(2)"
            ]
          },
          "metadata": {},
          "execution_count": 87
        }
      ]
    },
    {
      "cell_type": "code",
      "source": [
        "ti[1][1][1] #only 1 dimension"
      ],
      "metadata": {
        "colab": {
          "base_uri": "https://localhost:8080/",
          "height": 169
        },
        "id": "N33GUzoy5iU0",
        "outputId": "c1df6718-4133-4600-b324-86a0e4791e44"
      },
      "execution_count": 89,
      "outputs": [
        {
          "output_type": "error",
          "ename": "IndexError",
          "evalue": "ignored",
          "traceback": [
            "\u001b[0;31m---------------------------------------------------------------------------\u001b[0m",
            "\u001b[0;31mIndexError\u001b[0m                                Traceback (most recent call last)",
            "\u001b[0;32m<ipython-input-89-699867577d85>\u001b[0m in \u001b[0;36m<cell line: 1>\u001b[0;34m()\u001b[0m\n\u001b[0;32m----> 1\u001b[0;31m \u001b[0mti\u001b[0m\u001b[0;34m[\u001b[0m\u001b[0;36m1\u001b[0m\u001b[0;34m]\u001b[0m\u001b[0;34m[\u001b[0m\u001b[0;36m1\u001b[0m\u001b[0;34m]\u001b[0m\u001b[0;34m[\u001b[0m\u001b[0;36m1\u001b[0m\u001b[0;34m]\u001b[0m \u001b[0;31m#only 1 dimension\u001b[0m\u001b[0;34m\u001b[0m\u001b[0;34m\u001b[0m\u001b[0m\n\u001b[0m",
            "\u001b[0;31mIndexError\u001b[0m: index 1 is out of bounds for dimension 0 with size 1"
          ]
        }
      ]
    },
    {
      "cell_type": "code",
      "source": [
        "ti[0][1][1]"
      ],
      "metadata": {
        "colab": {
          "base_uri": "https://localhost:8080/"
        },
        "id": "SUgRgRwl5ikt",
        "outputId": "995af565-17fa-46fe-f841-48d70c8912c0"
      },
      "execution_count": 90,
      "outputs": [
        {
          "output_type": "execute_result",
          "data": {
            "text/plain": [
              "tensor(5)"
            ]
          },
          "metadata": {},
          "execution_count": 90
        }
      ]
    },
    {
      "cell_type": "code",
      "source": [
        "ti[0][2][2]"
      ],
      "metadata": {
        "colab": {
          "base_uri": "https://localhost:8080/"
        },
        "id": "szUdq1sy9IHY",
        "outputId": "79bb99fd-7c75-4a3f-bad4-10997a03ddef"
      },
      "execution_count": 91,
      "outputs": [
        {
          "output_type": "execute_result",
          "data": {
            "text/plain": [
              "tensor(9)"
            ]
          },
          "metadata": {},
          "execution_count": 91
        }
      ]
    },
    {
      "cell_type": "code",
      "source": [
        "# can use semicolon \":\" to select \"all\" of a target dimension\n",
        "ti[:,0],ti[:,1]"
      ],
      "metadata": {
        "colab": {
          "base_uri": "https://localhost:8080/"
        },
        "id": "okKMwPRH9IdH",
        "outputId": "dc6db510-1015-4896-9dfb-406a1a317790"
      },
      "execution_count": 92,
      "outputs": [
        {
          "output_type": "execute_result",
          "data": {
            "text/plain": [
              "(tensor([[1, 2, 3]]), tensor([[4, 5, 6]]))"
            ]
          },
          "metadata": {},
          "execution_count": 92
        }
      ]
    },
    {
      "cell_type": "code",
      "source": [
        "#Get all values of 0th dimension and 1st dimension but only index 1 of 2nd dimension\n",
        "ti[:,:,1]  \n"
      ],
      "metadata": {
        "colab": {
          "base_uri": "https://localhost:8080/"
        },
        "id": "6gTZxeDPJyip",
        "outputId": "716ca410-a790-4744-de1f-76c65ebeb9c2"
      },
      "execution_count": 93,
      "outputs": [
        {
          "output_type": "execute_result",
          "data": {
            "text/plain": [
              "tensor([[2, 5, 8]])"
            ]
          },
          "metadata": {},
          "execution_count": 93
        }
      ]
    },
    {
      "cell_type": "code",
      "source": [
        "#get all values of 0 dimension but only the 1 index value of 1st and 2nd dimension.\n",
        "ti[:,1,1]\n",
        "#ti[0,1,1]"
      ],
      "metadata": {
        "colab": {
          "base_uri": "https://localhost:8080/"
        },
        "id": "dnpPqIsHKdd8",
        "outputId": "f320d468-1002-45e6-c8f2-9e3c7c22dc81"
      },
      "execution_count": 94,
      "outputs": [
        {
          "output_type": "execute_result",
          "data": {
            "text/plain": [
              "tensor([5])"
            ]
          },
          "metadata": {},
          "execution_count": 94
        }
      ]
    },
    {
      "cell_type": "code",
      "source": [
        "#get index 0 of 0th and 1st dimension and all values of 2nd dimension.\n",
        "ti[0, 0, :]"
      ],
      "metadata": {
        "colab": {
          "base_uri": "https://localhost:8080/"
        },
        "id": "60cniwkTMB6Q",
        "outputId": "0bc7f4cc-aca7-4f0d-f1f8-118ee46886e9"
      },
      "execution_count": 95,
      "outputs": [
        {
          "output_type": "execute_result",
          "data": {
            "text/plain": [
              "tensor([1, 2, 3])"
            ]
          },
          "metadata": {},
          "execution_count": 95
        }
      ]
    },
    {
      "cell_type": "code",
      "source": [
        "#index on ti to reurn 9\n",
        "# ti[0][2][2]\n",
        "ti[0,2,2]"
      ],
      "metadata": {
        "colab": {
          "base_uri": "https://localhost:8080/"
        },
        "id": "5qLkX2-aOEA9",
        "outputId": "ee1de49a-2094-431b-fe5a-50f9ab8b4c99"
      },
      "execution_count": 96,
      "outputs": [
        {
          "output_type": "execute_result",
          "data": {
            "text/plain": [
              "tensor(9)"
            ]
          },
          "metadata": {},
          "execution_count": 96
        }
      ]
    },
    {
      "cell_type": "code",
      "source": [
        "#index on x to return 3,6,9\n",
        "ti[:,:,2]"
      ],
      "metadata": {
        "colab": {
          "base_uri": "https://localhost:8080/"
        },
        "id": "gT7nmvC9OadZ",
        "outputId": "c2aeb9ce-29da-4798-de56-42aa97c95309"
      },
      "execution_count": 97,
      "outputs": [
        {
          "output_type": "execute_result",
          "data": {
            "text/plain": [
              "tensor([[3, 6, 9]])"
            ]
          },
          "metadata": {},
          "execution_count": 97
        }
      ]
    },
    {
      "cell_type": "markdown",
      "source": [
        "###PyTorch Tensors and NumPy\n",
        "NumPy is a popular scientific Python numerical computing library.\n",
        "And because of this PyTorch has functionality to interact with it.\n",
        "\n",
        "* Data in NumPy to convert into PyTorch tensor-> 'torch.from_numpy(ndarray)'\n",
        "* PyTorch tensor -> NumPy -> 'torch.Tensor.numpy()'\n",
        "\n",
        "\n"
      ],
      "metadata": {
        "id": "To634MCEO4HY"
      }
    },
    {
      "cell_type": "code",
      "source": [
        "#Numpy array to tensor\n",
        "import torch\n",
        "import numpy as np\n",
        "\n",
        "array=np.arange(1.0,8.0)\n",
        "tensor=torch.from_numpy(array) # warning: when converting from numpy-> pytorch, pytorch reflects numpy's default datatype of float64 unless specified otherwise. \n",
        "array,tensor"
      ],
      "metadata": {
        "colab": {
          "base_uri": "https://localhost:8080/"
        },
        "id": "SkaWgTl7RY82",
        "outputId": "030e3f4f-bdfe-4896-eb0c-ae11f667ee62"
      },
      "execution_count": 98,
      "outputs": [
        {
          "output_type": "execute_result",
          "data": {
            "text/plain": [
              "(array([1., 2., 3., 4., 5., 6., 7.]),\n",
              " tensor([1., 2., 3., 4., 5., 6., 7.], dtype=torch.float64))"
            ]
          },
          "metadata": {},
          "execution_count": 98
        }
      ]
    },
    {
      "cell_type": "code",
      "source": [
        "array.dtype,tensor.dtype"
      ],
      "metadata": {
        "colab": {
          "base_uri": "https://localhost:8080/"
        },
        "id": "UGibLmAFRZRe",
        "outputId": "f0483a2e-18e3-4df5-89a7-bfbc4a11b36b"
      },
      "execution_count": 99,
      "outputs": [
        {
          "output_type": "execute_result",
          "data": {
            "text/plain": [
              "(dtype('float64'), torch.float64)"
            ]
          },
          "metadata": {},
          "execution_count": 99
        }
      ]
    },
    {
      "cell_type": "code",
      "source": [
        "torch.arange(1.0,8.0).dtype # pyTorch's default datatype is not float 64."
      ],
      "metadata": {
        "colab": {
          "base_uri": "https://localhost:8080/"
        },
        "id": "Gm_xOAzlRZjo",
        "outputId": "4194f278-86dc-4ac5-bc05-f4ed603eb748"
      },
      "execution_count": 100,
      "outputs": [
        {
          "output_type": "execute_result",
          "data": {
            "text/plain": [
              "torch.float32"
            ]
          },
          "metadata": {},
          "execution_count": 100
        }
      ]
    },
    {
      "cell_type": "code",
      "source": [
        "#change value of array, what will it do tensor.\n",
        "array=array+1 #adding 1 to every value in the array.\n",
        "array,tensor"
      ],
      "metadata": {
        "colab": {
          "base_uri": "https://localhost:8080/"
        },
        "id": "I51UomDFScQi",
        "outputId": "56ba4c4a-e586-4c79-fe3d-4b14b638d8a9"
      },
      "execution_count": 101,
      "outputs": [
        {
          "output_type": "execute_result",
          "data": {
            "text/plain": [
              "(array([2., 3., 4., 5., 6., 7., 8.]),\n",
              " tensor([1., 2., 3., 4., 5., 6., 7.], dtype=torch.float64))"
            ]
          },
          "metadata": {},
          "execution_count": 101
        }
      ]
    },
    {
      "cell_type": "code",
      "source": [
        "#Tensor to NumPy array\n",
        "tensor=torch.ones(7)\n",
        "numpy_tensor=tensor.numpy()\n",
        "tensor, numpy_tensor\n"
      ],
      "metadata": {
        "colab": {
          "base_uri": "https://localhost:8080/"
        },
        "id": "vO8Irg3FT516",
        "outputId": "dbec2886-e047-4beb-9b92-04acb162dc0e"
      },
      "execution_count": 102,
      "outputs": [
        {
          "output_type": "execute_result",
          "data": {
            "text/plain": [
              "(tensor([1., 1., 1., 1., 1., 1., 1.]),\n",
              " array([1., 1., 1., 1., 1., 1., 1.], dtype=float32))"
            ]
          },
          "metadata": {},
          "execution_count": 102
        }
      ]
    },
    {
      "cell_type": "code",
      "source": [
        "#Change the tensor, what happens to 'numpy_tensor'?\n",
        "tensor=tensor+1\n",
        "tensor, numpy_tensor # both do not share memory"
      ],
      "metadata": {
        "colab": {
          "base_uri": "https://localhost:8080/"
        },
        "id": "P-79OtgGT6Kh",
        "outputId": "d176378a-e403-4aa2-b420-d241d5bd050d"
      },
      "execution_count": 103,
      "outputs": [
        {
          "output_type": "execute_result",
          "data": {
            "text/plain": [
              "(tensor([2., 2., 2., 2., 2., 2., 2.]),\n",
              " array([1., 1., 1., 1., 1., 1., 1.], dtype=float32))"
            ]
          },
          "metadata": {},
          "execution_count": 103
        }
      ]
    },
    {
      "cell_type": "markdown",
      "source": [
        "##Reproducubility(trying to take random out of random)\n",
        "\n",
        "How a Neural Network learns:\n",
        "\n",
        "'start with random numbers -> tensor operations -> try to make better (again and again and again)'\n",
        "\n",
        "To reduce randomness in neural networks and PyTorch comes the concept of a **random seed**.\n",
        "\n",
        "Random seed \"flavour the randomness.\n"
      ],
      "metadata": {
        "id": "G9xvyjRdUkrE"
      }
    },
    {
      "cell_type": "code",
      "source": [
        "import torch\n",
        "#create two random tensors\n",
        "rand_tens_A=torch.rand(3,4)\n",
        "rand_tens_B=torch.rand(3,4)\n",
        "print(rand_tens_A)\n",
        "print(rand_tens_B)\n",
        "print(rand_tens_A==rand_tens_B)\n",
        "\n"
      ],
      "metadata": {
        "colab": {
          "base_uri": "https://localhost:8080/"
        },
        "id": "LN5yY3SoT6cq",
        "outputId": "9fc15043-16b5-474e-b1d1-3feb7ebdca64"
      },
      "execution_count": 104,
      "outputs": [
        {
          "output_type": "stream",
          "name": "stdout",
          "text": [
            "tensor([[0.5659, 0.1416, 0.0949, 0.5004],\n",
            "        [0.3380, 0.5663, 0.3954, 0.8292],\n",
            "        [0.7028, 0.0104, 0.9891, 0.8602]])\n",
            "tensor([[0.7096, 0.6587, 0.9737, 0.5603],\n",
            "        [0.9171, 0.3116, 0.6750, 0.3901],\n",
            "        [0.6492, 0.9086, 0.1659, 0.9326]])\n",
            "tensor([[False, False, False, False],\n",
            "        [False, False, False, False],\n",
            "        [False, False, False, False]])\n"
          ]
        }
      ]
    },
    {
      "cell_type": "markdown",
      "source": [
        "Extra resources for reproducibilty-https://pytorch.org/docs/stable/notes/randomness.html\n",
        "\n",
        "Random seed- wikipedia"
      ],
      "metadata": {
        "id": "_M23dAq5bhp2"
      }
    },
    {
      "cell_type": "code",
      "source": [
        "#make some random but reproducible tensors\n",
        "import torch\n",
        "\n",
        "#set the random seed\n",
        "Random_seed=27\n",
        "torch.manual_seed(Random_seed) # works for one block of code.\n",
        "random_tens_C=torch.rand(3,4)\n",
        "torch.manual_seed(Random_seed)\n",
        "random_tens_D=torch.rand(3,4)\n",
        "print(random_tens_C)\n",
        "print(random_tens_D)\n",
        "print(random_tens_C==random_tens_D)\n",
        "\n",
        "\n"
      ],
      "metadata": {
        "colab": {
          "base_uri": "https://localhost:8080/"
        },
        "id": "bVxmsNnDVUHa",
        "outputId": "7d1d542c-2e7c-4fa1-f77b-63539ec7409e"
      },
      "execution_count": 105,
      "outputs": [
        {
          "output_type": "stream",
          "name": "stdout",
          "text": [
            "tensor([[0.9847, 0.0852, 0.5334, 0.2196],\n",
            "        [0.2617, 0.7972, 0.2088, 0.4545],\n",
            "        [0.1455, 0.2249, 0.7409, 0.2881]])\n",
            "tensor([[0.9847, 0.0852, 0.5334, 0.2196],\n",
            "        [0.2617, 0.7972, 0.2088, 0.4545],\n",
            "        [0.1455, 0.2249, 0.7409, 0.2881]])\n",
            "tensor([[True, True, True, True],\n",
            "        [True, True, True, True],\n",
            "        [True, True, True, True]])\n"
          ]
        }
      ]
    },
    {
      "cell_type": "markdown",
      "source": [
        "##Running Tensors and  PyTorch Objects on GPUs (and making faster computations)\n",
        "GPUs= faster computatin on nmbers,  cuda+ Nvidia hardware+PyTorch\n",
        "\n",
        "\n"
      ],
      "metadata": {
        "id": "u05z5DAuVUag"
      }
    },
    {
      "cell_type": "markdown",
      "source": [
        "### 1. Getting a GPU\n",
        "1. Easiest- use colab for free gpu(can upgrade)\n",
        "2. use your own GPU\n",
        "3. use cloud computing-GC, AWS, Azure.\n",
        "\n"
      ],
      "metadata": {
        "id": "qTLw0ow3VUp9"
      }
    },
    {
      "cell_type": "code",
      "source": [
        "!nvidia-smi"
      ],
      "metadata": {
        "colab": {
          "base_uri": "https://localhost:8080/"
        },
        "id": "C5c85V5PVU4f",
        "outputId": "81087388-9ca7-465e-98e4-81395417d71b"
      },
      "execution_count": 107,
      "outputs": [
        {
          "output_type": "stream",
          "name": "stdout",
          "text": [
            "Sat May  6 09:52:31 2023       \n",
            "+-----------------------------------------------------------------------------+\n",
            "| NVIDIA-SMI 525.85.12    Driver Version: 525.85.12    CUDA Version: 12.0     |\n",
            "|-------------------------------+----------------------+----------------------+\n",
            "| GPU  Name        Persistence-M| Bus-Id        Disp.A | Volatile Uncorr. ECC |\n",
            "| Fan  Temp  Perf  Pwr:Usage/Cap|         Memory-Usage | GPU-Util  Compute M. |\n",
            "|                               |                      |               MIG M. |\n",
            "|===============================+======================+======================|\n",
            "|   0  Tesla T4            Off  | 00000000:00:04.0 Off |                    0 |\n",
            "| N/A   60C    P8    10W /  70W |      0MiB / 15360MiB |      0%      Default |\n",
            "|                               |                      |                  N/A |\n",
            "+-------------------------------+----------------------+----------------------+\n",
            "                                                                               \n",
            "+-----------------------------------------------------------------------------+\n",
            "| Processes:                                                                  |\n",
            "|  GPU   GI   CI        PID   Type   Process name                  GPU Memory |\n",
            "|        ID   ID                                                   Usage      |\n",
            "|=============================================================================|\n",
            "|  No running processes found                                                 |\n",
            "+-----------------------------------------------------------------------------+\n"
          ]
        }
      ]
    },
    {
      "cell_type": "markdown",
      "source": [
        "###Check for GPU access with PyTorch\n"
      ],
      "metadata": {
        "id": "HgqqdMqPenaP"
      }
    },
    {
      "cell_type": "code",
      "source": [
        "#check for GPU access with PyTorch\n",
        "import torch\n",
        "torch.cuda.is_available()"
      ],
      "metadata": {
        "colab": {
          "base_uri": "https://localhost:8080/"
        },
        "id": "p4M9B3Ede4dy",
        "outputId": "28f092cf-68f7-4b67-b4bd-199b6170694c"
      },
      "execution_count": 110,
      "outputs": [
        {
          "output_type": "execute_result",
          "data": {
            "text/plain": [
              "True"
            ]
          },
          "metadata": {},
          "execution_count": 110
        }
      ]
    },
    {
      "cell_type": "code",
      "source": [
        "# Setup device agnostic code\n",
        "device=\"cuda\" if torch.cuda.is_available() else \"cpu\"\n",
        "device\n"
      ],
      "metadata": {
        "colab": {
          "base_uri": "https://localhost:8080/",
          "height": 35
        },
        "id": "VEscOwEoe4xj",
        "outputId": "5c6ad170-8f36-4458-97ae-9f511ba439cf"
      },
      "execution_count": 112,
      "outputs": [
        {
          "output_type": "execute_result",
          "data": {
            "text/plain": [
              "'cuda'"
            ],
            "application/vnd.google.colaboratory.intrinsic+json": {
              "type": "string"
            }
          },
          "metadata": {},
          "execution_count": 112
        }
      ]
    },
    {
      "cell_type": "code",
      "source": [
        "#Count number of devices\n",
        "torch.cuda.device_count()\n",
        "\n"
      ],
      "metadata": {
        "colab": {
          "base_uri": "https://localhost:8080/"
        },
        "id": "J1opeHPynVoS",
        "outputId": "0f80380b-320a-44cb-ecf9-be9aae106112"
      },
      "execution_count": 113,
      "outputs": [
        {
          "output_type": "execute_result",
          "data": {
            "text/plain": [
              "1"
            ]
          },
          "metadata": {},
          "execution_count": 113
        }
      ]
    },
    {
      "cell_type": "markdown",
      "source": [
        "PyTorch capable of running compute on GPU or CPU, best is t setup device agnostc code:\n",
        "https://pytorch.org/docs/stable/notes/cuda.html"
      ],
      "metadata": {
        "id": "eMDTlg0hnZbF"
      }
    },
    {
      "cell_type": "markdown",
      "source": [
        "## Putting tensors (and models) on the GPU\n",
        "\n",
        "As using a GPU results in faster computations.\n"
      ],
      "metadata": {
        "id": "aIyrSDAXnZx7"
      }
    },
    {
      "cell_type": "code",
      "source": [
        "#Create a tensor (default on CPU)\n",
        "tensor=torch.tensor([1,2,3], device=\"cpu\")\n",
        "\n",
        "#Tensor not on GPU\n",
        "print(tensor, tensor.device)\n"
      ],
      "metadata": {
        "colab": {
          "base_uri": "https://localhost:8080/"
        },
        "id": "0oQskZHfnaJ8",
        "outputId": "94b097d8-803b-4e92-933c-f721ef98b702"
      },
      "execution_count": 116,
      "outputs": [
        {
          "output_type": "stream",
          "name": "stdout",
          "text": [
            "tensor([1, 2, 3]) cpu\n"
          ]
        }
      ]
    },
    {
      "cell_type": "code",
      "source": [
        "#Move tensor to GPU(IF AVAILABLE)\n",
        "tensor_on_gpu=tensor.to(device)\n",
        "tensor_on_gpu"
      ],
      "metadata": {
        "colab": {
          "base_uri": "https://localhost:8080/"
        },
        "id": "O5bH_tCXsUo6",
        "outputId": "40d4d065-c3cc-4e59-e702-0af4c82edebc"
      },
      "execution_count": 118,
      "outputs": [
        {
          "output_type": "execute_result",
          "data": {
            "text/plain": [
              "tensor([1, 2, 3], device='cuda:0')"
            ]
          },
          "metadata": {},
          "execution_count": 118
        }
      ]
    },
    {
      "cell_type": "markdown",
      "source": [
        "###Moving Tensors back to CPU"
      ],
      "metadata": {
        "id": "vpHCVefrtL6C"
      }
    },
    {
      "cell_type": "code",
      "source": [
        "# If tensor is on GPU, can't transform it to Numpy\n",
        "tensor_on_gpu.numpy() # device issues."
      ],
      "metadata": {
        "colab": {
          "base_uri": "https://localhost:8080/",
          "height": 187
        },
        "id": "Oh_eOC-StaY8",
        "outputId": "94ab864d-3009-4870-a54f-46f3aacf3a0e"
      },
      "execution_count": 119,
      "outputs": [
        {
          "output_type": "error",
          "ename": "TypeError",
          "evalue": "ignored",
          "traceback": [
            "\u001b[0;31m---------------------------------------------------------------------------\u001b[0m",
            "\u001b[0;31mTypeError\u001b[0m                                 Traceback (most recent call last)",
            "\u001b[0;32m<ipython-input-119-2cc50256f9ac>\u001b[0m in \u001b[0;36m<cell line: 2>\u001b[0;34m()\u001b[0m\n\u001b[1;32m      1\u001b[0m \u001b[0;31m# If tensor is on GPU, can't transform it to Numpy\u001b[0m\u001b[0;34m\u001b[0m\u001b[0;34m\u001b[0m\u001b[0m\n\u001b[0;32m----> 2\u001b[0;31m \u001b[0mtensor_on_gpu\u001b[0m\u001b[0;34m.\u001b[0m\u001b[0mnumpy\u001b[0m\u001b[0;34m(\u001b[0m\u001b[0;34m)\u001b[0m\u001b[0;34m\u001b[0m\u001b[0;34m\u001b[0m\u001b[0m\n\u001b[0m",
            "\u001b[0;31mTypeError\u001b[0m: can't convert cuda:0 device type tensor to numpy. Use Tensor.cpu() to copy the tensor to host memory first."
          ]
        }
      ]
    },
    {
      "cell_type": "code",
      "source": [
        "# first shift tensor back to cpu\n",
        "tensor_back_on_cpu= tensor_on_gpu.cpu().numpy()\n",
        "tensor_back_on_cpu"
      ],
      "metadata": {
        "colab": {
          "base_uri": "https://localhost:8080/"
        },
        "id": "e00JHmfetaxV",
        "outputId": "88374dbc-b5e9-4b3d-d2ef-f79fddff12d6"
      },
      "execution_count": 121,
      "outputs": [
        {
          "output_type": "execute_result",
          "data": {
            "text/plain": [
              "array([1, 2, 3])"
            ]
          },
          "metadata": {},
          "execution_count": 121
        }
      ]
    },
    {
      "cell_type": "code",
      "source": [
        "tensor_on_gpu # remains unhanged"
      ],
      "metadata": {
        "colab": {
          "base_uri": "https://localhost:8080/"
        },
        "id": "DnPpcgAnuyyG",
        "outputId": "8e6cc223-330a-44a0-d879-f83ca32ae270"
      },
      "execution_count": 124,
      "outputs": [
        {
          "output_type": "execute_result",
          "data": {
            "text/plain": [
              "tensor([1, 2, 3], device='cuda:0')"
            ]
          },
          "metadata": {},
          "execution_count": 124
        }
      ]
    },
    {
      "cell_type": "code",
      "source": [],
      "metadata": {
        "id": "2XBQ2wWlu9Jz"
      },
      "execution_count": null,
      "outputs": []
    }
  ]
}