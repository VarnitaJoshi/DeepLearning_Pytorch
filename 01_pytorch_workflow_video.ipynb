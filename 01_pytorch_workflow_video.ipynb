{
  "cells": [
    {
      "cell_type": "markdown",
      "metadata": {
        "id": "view-in-github",
        "colab_type": "text"
      },
      "source": [
        "<a href=\"https://colab.research.google.com/github/VarnitaJoshi/DeepLearning_Pytorch/blob/main/01_pytorch_workflow_video.ipynb\" target=\"_parent\"><img src=\"https://colab.research.google.com/assets/colab-badge.svg\" alt=\"Open In Colab\"/></a>"
      ]
    },
    {
      "cell_type": "code",
      "execution_count": null,
      "metadata": {
        "colab": {
          "base_uri": "https://localhost:8080/"
        },
        "id": "AlW1bDB8x8-h",
        "outputId": "37adb078-eeea-4033-952a-dbeae3da3137"
      },
      "outputs": [
        {
          "output_type": "execute_result",
          "data": {
            "text/plain": [
              "{1: 'data (prepare and load)',\n",
              " 2: 'build model',\n",
              " 3: 'fitting the model to data(training)',\n",
              " 4: 'making predictions and evaluating a model(inference)',\n",
              " 5: 'saving and loading a model',\n",
              " 6: 'putting it all together'}"
            ]
          },
          "metadata": {},
          "execution_count": 1
        }
      ],
      "source": [
        "#PyTorch Workflow\n",
        "to_cover={1:\"data (prepare and load)\",\n",
        "          2:\"build model\",\n",
        "          3: \"fitting the model to data(training)\",\n",
        "          4: \"making predictions and evaluating a model(inference)\",\n",
        "          5: \"saving and loading a model\",\n",
        "          6: \"putting it all together\"}\n",
        "to_cover\n"
      ]
    },
    {
      "cell_type": "code",
      "execution_count": null,
      "metadata": {
        "colab": {
          "base_uri": "https://localhost:8080/",
          "height": 35
        },
        "id": "GwyQi0WdzV9_",
        "outputId": "63292552-ae29-4a8d-81a6-506fa96397a8"
      },
      "outputs": [
        {
          "output_type": "execute_result",
          "data": {
            "text/plain": [
              "'2.0.0+cu118'"
            ],
            "application/vnd.google.colaboratory.intrinsic+json": {
              "type": "string"
            }
          },
          "metadata": {},
          "execution_count": 2
        }
      ],
      "source": [
        "import torch\n",
        "from torch import nn #nn contains all of PyTorch's building blocks for neural networks\n",
        "import matplotlib.pyplot as plt\n",
        "\n",
        "#check PyTorch version\n",
        "torch.__version__\n",
        "\n",
        "\n"
      ]
    },
    {
      "cell_type": "markdown",
      "metadata": {
        "id": "zUJ7k67bzrVh"
      },
      "source": [
        "##1.Data(preparing and loading)"
      ]
    },
    {
      "cell_type": "markdown",
      "metadata": {
        "id": "U5HFV9u-zrvY"
      },
      "source": [
        "## Data can be anything ...in ML.\n",
        "* Excel sheet\n",
        "* Images\n",
        "* Videos\n",
        "* Audio\n",
        "* Text\n",
        "\n",
        "Two parts of Ml\n",
        "1. get data into numerical rep.\n",
        "2. build a model to learn patterns in that numerial rep.\n",
        "\n",
        "To show this, create some *known* data using the linear regression formula.\n",
        "'y=a+bx'\n",
        "use a linear regression formula to make a straight line with *known* **parameters**.\n",
        "**Parameters** is something that a model learns.\n",
        "\n",
        "\n",
        "\n",
        "\n"
      ]
    },
    {
      "cell_type": "code",
      "execution_count": null,
      "metadata": {
        "colab": {
          "base_uri": "https://localhost:8080/"
        },
        "id": "sNqenNqEzsCJ",
        "outputId": "44e4ec42-734f-4cf6-ee85-3d84ea3e1dfb"
      },
      "outputs": [
        {
          "output_type": "execute_result",
          "data": {
            "text/plain": [
              "(tensor([[0.0000],\n",
              "         [0.0200],\n",
              "         [0.0400],\n",
              "         [0.0600],\n",
              "         [0.0800],\n",
              "         [0.1000],\n",
              "         [0.1200],\n",
              "         [0.1400],\n",
              "         [0.1600],\n",
              "         [0.1800]]),\n",
              " tensor([[0.3000],\n",
              "         [0.3140],\n",
              "         [0.3280],\n",
              "         [0.3420],\n",
              "         [0.3560],\n",
              "         [0.3700],\n",
              "         [0.3840],\n",
              "         [0.3980],\n",
              "         [0.4120],\n",
              "         [0.4260]]))"
            ]
          },
          "metadata": {},
          "execution_count": 3
        }
      ],
      "source": [
        "# Create *known* parameters DATASET CREATION \n",
        "weight=0.7 #can set these to any numbers.\n",
        "bias=0.3\n",
        "# Have to build a model that want to estimate these numbers\n",
        "start=0\n",
        "end=1\n",
        "step=0.02\n",
        "X=torch.arange(start,end,step).unsqueeze(dim=1) # unsqueeze adds extra dimensions.\n",
        "y=weight * X+bias\n",
        "\n",
        "X[:10],y[:10] "
      ]
    },
    {
      "cell_type": "code",
      "execution_count": null,
      "metadata": {
        "colab": {
          "base_uri": "https://localhost:8080/"
        },
        "id": "y1XMAQyzZjGq",
        "outputId": "13f6b249-9e01-409a-d35b-5ee4fc9f8a54"
      },
      "outputs": [
        {
          "output_type": "execute_result",
          "data": {
            "text/plain": [
              "(50, 50)"
            ]
          },
          "metadata": {},
          "execution_count": 4
        }
      ],
      "source": [
        "len(X),len(y)\n",
        "# idea of ML is to learn the representation of the input and how it maps to the output.\n",
        " "
      ]
    },
    {
      "cell_type": "markdown",
      "metadata": {
        "id": "Ue6RQjv7Zj2d"
      },
      "source": [
        "###Splitting data into training and test sets.\n",
        "create training and test set with our data."
      ]
    },
    {
      "cell_type": "code",
      "execution_count": null,
      "metadata": {
        "colab": {
          "base_uri": "https://localhost:8080/"
        },
        "id": "cr0pMJS4ZkOU",
        "outputId": "48ce41e3-7c9c-48f9-d4ef-54bd4c70fbb7"
      },
      "outputs": [
        {
          "output_type": "execute_result",
          "data": {
            "text/plain": [
              "(40, 40, 10, 10)"
            ]
          },
          "metadata": {},
          "execution_count": 5
        }
      ],
      "source": [
        "#Create a train/test split\n",
        "train_split=int(0.8*len(X))\n",
        "X_train, y_train=X[:train_split],y[:train_split]\n",
        "X_test, y_test=X[train_split:],y[train_split:]\n",
        "len(X_train),len(y_train),len(X_test),len(y_test)"
      ]
    },
    {
      "cell_type": "code",
      "execution_count": null,
      "metadata": {
        "colab": {
          "base_uri": "https://localhost:8080/"
        },
        "id": "I7I4vTPkicUp",
        "outputId": "a46492c0-5504-4626-a0ba-b0aef3ff42d1"
      },
      "outputs": [
        {
          "output_type": "execute_result",
          "data": {
            "text/plain": [
              "(tensor([[0.0000],\n",
              "         [0.0200],\n",
              "         [0.0400],\n",
              "         [0.0600],\n",
              "         [0.0800],\n",
              "         [0.1000],\n",
              "         [0.1200],\n",
              "         [0.1400],\n",
              "         [0.1600],\n",
              "         [0.1800],\n",
              "         [0.2000],\n",
              "         [0.2200],\n",
              "         [0.2400],\n",
              "         [0.2600],\n",
              "         [0.2800],\n",
              "         [0.3000],\n",
              "         [0.3200],\n",
              "         [0.3400],\n",
              "         [0.3600],\n",
              "         [0.3800],\n",
              "         [0.4000],\n",
              "         [0.4200],\n",
              "         [0.4400],\n",
              "         [0.4600],\n",
              "         [0.4800],\n",
              "         [0.5000],\n",
              "         [0.5200],\n",
              "         [0.5400],\n",
              "         [0.5600],\n",
              "         [0.5800],\n",
              "         [0.6000],\n",
              "         [0.6200],\n",
              "         [0.6400],\n",
              "         [0.6600],\n",
              "         [0.6800],\n",
              "         [0.7000],\n",
              "         [0.7200],\n",
              "         [0.7400],\n",
              "         [0.7600],\n",
              "         [0.7800]]),\n",
              " tensor([[0.3000],\n",
              "         [0.3140],\n",
              "         [0.3280],\n",
              "         [0.3420],\n",
              "         [0.3560],\n",
              "         [0.3700],\n",
              "         [0.3840],\n",
              "         [0.3980],\n",
              "         [0.4120],\n",
              "         [0.4260],\n",
              "         [0.4400],\n",
              "         [0.4540],\n",
              "         [0.4680],\n",
              "         [0.4820],\n",
              "         [0.4960],\n",
              "         [0.5100],\n",
              "         [0.5240],\n",
              "         [0.5380],\n",
              "         [0.5520],\n",
              "         [0.5660],\n",
              "         [0.5800],\n",
              "         [0.5940],\n",
              "         [0.6080],\n",
              "         [0.6220],\n",
              "         [0.6360],\n",
              "         [0.6500],\n",
              "         [0.6640],\n",
              "         [0.6780],\n",
              "         [0.6920],\n",
              "         [0.7060],\n",
              "         [0.7200],\n",
              "         [0.7340],\n",
              "         [0.7480],\n",
              "         [0.7620],\n",
              "         [0.7760],\n",
              "         [0.7900],\n",
              "         [0.8040],\n",
              "         [0.8180],\n",
              "         [0.8320],\n",
              "         [0.8460]]))"
            ]
          },
          "metadata": {},
          "execution_count": 6
        }
      ],
      "source": [
        "X_train,y_train"
      ]
    },
    {
      "cell_type": "markdown",
      "metadata": {
        "id": "fJ9Zkd9Wkbc_"
      },
      "source": [
        "To better visualise the data use matplotlib."
      ]
    },
    {
      "cell_type": "code",
      "execution_count": null,
      "metadata": {
        "id": "Nh6YggC1kHRu"
      },
      "outputs": [],
      "source": [
        "def plot_predictions(train_data=X_train,train_labels=y_train,test_data=X_test,\n",
        "                     test_labels=y_test,predictions=None):\n",
        "  \n",
        "    \"\"\"Plots training data, test data and compares predictions\"\"\"\n",
        "    plt.figure(figsize=(10,7))\n",
        "\n",
        "    #Plot training data in blue\n",
        "    plt.scatter(train_data,train_labels,c=\"b\", s=4, label=\"Training Data\")\n",
        "\n",
        "\n",
        "    #plot test data in green\n",
        "    plt.scatter(test_data, test_labels,c=\"g\",s=4,label=\"Testing data\")\n",
        "\n",
        "    # Are there predictions?\n",
        "    if predictions is not None:\n",
        "      #Plot the predictions if they exist\n",
        "      plt.scatter(test_data,predictions,c=\"r\",s=4,label=\"Predictions\")\n",
        "    # Show the legend it shows the labels on the matplotlib.\n",
        "    plt.legend(prop={\"size\":14});\n",
        "\n",
        "\n",
        "\n",
        "\n",
        "\n",
        "\n",
        "\n",
        "    "
      ]
    },
    {
      "cell_type": "markdown",
      "metadata": {
        "id": "KjZeq3fzOz6b"
      },
      "source": [
        "###perfect model would have red dots over the green dots"
      ]
    },
    {
      "cell_type": "code",
      "execution_count": null,
      "metadata": {
        "colab": {
          "base_uri": "https://localhost:8080/",
          "height": 460
        },
        "id": "vJt5l5QbkHoE",
        "outputId": "24b9e66c-f6bc-4255-9cf8-c0dd76ed23b6"
      },
      "outputs": [
        {
          "output_type": "display_data",
          "data": {
            "text/plain": [
              "<Figure size 1000x700 with 1 Axes>"
            ],
            "image/png": "[encoded data removed]"
          },
          "metadata": {}
        }
      ],
      "source": [
        "plot_predictions();"
      ]
    },
    {
      "cell_type": "markdown",
      "metadata": {
        "id": "qVowyQgLPZVH"
      },
      "source": [
        "### 2. Building model\n",
        "We will create a linear regression model.\n",
        "\n",
        "classes in python-https://www.w3schools.com/python/python_classes.asp\n",
        "polymophism in python-https://www.w3schools.com/python/python_polymorphism.asp\n",
        "\n",
        "-> in Python used for annotation (retrn type of the function.\n",
        "https://pencilprogrammer.com/python-arrow-annotation/\n",
        "\n",
        "## Goal of our model is to start with random numbers(weights and bias) and analyse the data then according to that update the random\n",
        "## numbers to represent the pattern in the data or to approximate the known parameters(known weights and bias from which dataset is generated) as good as possible, it will do this with help of an algorithm called gradient descent.\n",
        "\n",
        "It uses two algorithms to do this:\n",
        "\n",
        "1. Gradient Descent-3blue 1 brown video\n",
        "2. Backpropagation-3 blue 1 brown video\n"
      ]
    },
    {
      "cell_type": "code",
      "execution_count": null,
      "metadata": {
        "id": "uJr8nQaHP9v9"
      },
      "outputs": [],
      "source": [
        "import torch\n",
        "from torch import nn\n",
        "# create linear regression model class\n",
        "class LinearRegressionModel(nn.Module): # almost everything in pytorch inherits from nn.module\n",
        "  def __init__(self):\n",
        "    super().__init__()\n",
        "    self.weights=nn.Parameter(torch.randn(1,#<-start with a random weight and try to adjust it to the ideal weight\n",
        "                                          requires_grad=True, # <- can this parameter be updated via gradient descent?\n",
        "                                          dtype=torch.float)) # <- PyTorch datatype torch.float32\n",
        "    self.bias=nn.Parameter(torch.randn(1,requires_grad=True,dtype=torch.float))\n",
        "\n",
        "  #Forward method to define computation in the model. here forward method is linear regression function.\n",
        "  def forward(self, x:torch.Tensor)->torch.Tensor:#<- x is input data\n",
        "    return self.weights * x+ self.bias #this is the linear regression formula\n",
        "  # to update yhe values of weights and bias it uses radient descent and backpropagation\n",
        "\n",
        "\n",
        "\n",
        "    \n",
        "     "
      ]
    },
    {
      "cell_type": "code",
      "execution_count": null,
      "metadata": {
        "colab": {
          "base_uri": "https://localhost:8080/"
        },
        "id": "nrTDrwslw-jB",
        "outputId": "a05b0ce7-1d51-4e51-c7d5-549254a445c0"
      },
      "outputs": [
        {
          "output_type": "execute_result",
          "data": {
            "text/plain": [
              "tensor([0.3367])"
            ]
          },
          "metadata": {},
          "execution_count": 10
        }
      ],
      "source": [
        "torch.manual_seed(42)\n",
        "torch.randn(1)"
      ]
    },
    {
      "cell_type": "markdown",
      "metadata": {
        "id": "KjTcbE11iqJc"
      },
      "source": [
        "##PyTorch Model Building essentials.\n",
        "\n",
        "* **torch.nn** - contains all of the buildings for comptational graphs(another word for neural network)\n",
        "\n",
        "* **torch.nn.Parameter**- what parameters our model should try and learn, often a PyTorch layer from torch.nn will set these for us. \n",
        "* **torch.nn.Module** -  Base class for all neural network modules, if ou subclass it, you should overwrite forward()\n",
        "* **torch.optim** - this where the optimizers in PyTorch live, they will help with gradient descent.\n",
        "* **def forward()**- all nn.module subclasses require to overwrite forward(),this method defines what happens in the forward computation.\n",
        "\n",
        "pytorch cheatsheet--https://pytorch.org/tutorials/beginner/ptcheat.html"
      ]
    },
    {
      "cell_type": "markdown",
      "metadata": {
        "id": "jJDtoIZaiqiB"
      },
      "source": [
        "\n",
        "###Checking the contents of our PyTorch Model\n",
        "check model Parameters using '.parameters()'.\n",
        "\n",
        "\n"
      ]
    },
    {
      "cell_type": "code",
      "execution_count": null,
      "metadata": {
        "colab": {
          "base_uri": "https://localhost:8080/"
        },
        "id": "yrn7xPLniq1Z",
        "outputId": "82dcacb9-f11f-4872-9636-4ee479f248a5"
      },
      "outputs": [
        {
          "output_type": "execute_result",
          "data": {
            "text/plain": [
              "[Parameter containing:\n",
              " tensor([0.3367], requires_grad=True),\n",
              " Parameter containing:\n",
              " tensor([0.1288], requires_grad=True)]"
            ]
          },
          "metadata": {},
          "execution_count": 11
        }
      ],
      "source": [
        "# Create a Random seed\n",
        "from torch.nn.modules.container import ParameterList\n",
        "torch.manual_seed(42) # if you don't apply seed, can get different values at different times.\n",
        "#create an instance of the model(this is a subclass of nn.Module)\n",
        "\n",
        "model_0 =LinearRegressionModel()\n",
        "\n",
        "# check parameters\n",
        "list(model_0.parameters())\n",
        "\n",
        "\n"
      ]
    },
    {
      "cell_type": "code",
      "execution_count": null,
      "metadata": {
        "colab": {
          "base_uri": "https://localhost:8080/"
        },
        "id": "2NVL2AbZvL5D",
        "outputId": "9e37c92d-3fb5-4b79-e8f6-42a58c362b5c"
      },
      "outputs": [
        {
          "output_type": "execute_result",
          "data": {
            "text/plain": [
              "OrderedDict([('weights', tensor([0.3367])), ('bias', tensor([0.1288]))])"
            ]
          },
          "metadata": {},
          "execution_count": 12
        }
      ],
      "source": [
        "#List named parameters\n",
        "model_0.state_dict()"
      ]
    },
    {
      "cell_type": "code",
      "execution_count": null,
      "metadata": {
        "colab": {
          "base_uri": "https://localhost:8080/"
        },
        "id": "TJVcASRpvMXB",
        "outputId": "987eef0f-a52c-4065-be05-f8599fd7a452"
      },
      "outputs": [
        {
          "output_type": "execute_result",
          "data": {
            "text/plain": [
              "(0.7, 0.3)"
            ]
          },
          "metadata": {},
          "execution_count": 13
        }
      ],
      "source": [
        "weight, bias"
      ]
    },
    {
      "cell_type": "markdown",
      "metadata": {
        "id": "DK46LaJIzxjq"
      },
      "source": [
        "##Making predictions using 'torch.inference_mode\n",
        "To check model's predictive power, see hoe it predicts ' y-test '  based on X_test.\n",
        "\n",
        "When data passes through model, it will run it through forward pass.\n",
        "\n",
        "\n",
        "\n",
        "\n",
        "\n",
        "\n",
        "\n",
        "\n",
        "\n"
      ]
    },
    {
      "cell_type": "code",
      "execution_count": null,
      "metadata": {
        "colab": {
          "base_uri": "https://localhost:8080/"
        },
        "id": "Hm6aZ_vk3WiZ",
        "outputId": "c8afa96d-d59e-42d1-fe0b-b6a5ce155d53"
      },
      "outputs": [
        {
          "output_type": "execute_result",
          "data": {
            "text/plain": [
              "(tensor([[0.8000],\n",
              "         [0.8200],\n",
              "         [0.8400],\n",
              "         [0.8600],\n",
              "         [0.8800],\n",
              "         [0.9000],\n",
              "         [0.9200],\n",
              "         [0.9400],\n",
              "         [0.9600],\n",
              "         [0.9800]]),\n",
              " tensor([[0.8600],\n",
              "         [0.8740],\n",
              "         [0.8880],\n",
              "         [0.9020],\n",
              "         [0.9160],\n",
              "         [0.9300],\n",
              "         [0.9440],\n",
              "         [0.9580],\n",
              "         [0.9720],\n",
              "         [0.9860]]))"
            ]
          },
          "metadata": {},
          "execution_count": 14
        }
      ],
      "source": [
        "X_test,y_test"
      ]
    },
    {
      "cell_type": "code",
      "execution_count": null,
      "metadata": {
        "colab": {
          "base_uri": "https://localhost:8080/"
        },
        "id": "QdJWGKgQ0PYm",
        "outputId": "1d0f5f63-f370-4b3f-878b-17b99d893c09"
      },
      "outputs": [
        {
          "output_type": "execute_result",
          "data": {
            "text/plain": [
              "tensor([[0.3982],\n",
              "        [0.4049],\n",
              "        [0.4116],\n",
              "        [0.4184],\n",
              "        [0.4251],\n",
              "        [0.4318],\n",
              "        [0.4386],\n",
              "        [0.4453],\n",
              "        [0.4520],\n",
              "        [0.4588]])"
            ]
          },
          "metadata": {},
          "execution_count": 15
        }
      ],
      "source": [
        "#Make predictions with model.\n",
        "### inference mode turns OFF the gradient tracking, during inference not doing training so no need to keep track of gradient.\n",
        "with torch.inference_mode():\n",
        "  y_preds=model_0(X_test)\n",
        "\n",
        "# similar with torch.nograd\n",
        "# with torch.no_grad():\n",
        "#   y_preds=model_0(X_test)\n",
        "\n",
        "\n",
        "y_preds"
      ]
    },
    {
      "cell_type": "code",
      "execution_count": null,
      "metadata": {
        "colab": {
          "base_uri": "https://localhost:8080/"
        },
        "id": "DeXQY7qN0Pst",
        "outputId": "95c24299-228b-4b39-cac5-ac1ad5673514"
      },
      "outputs": [
        {
          "output_type": "execute_result",
          "data": {
            "text/plain": [
              "tensor([[0.8600],\n",
              "        [0.8740],\n",
              "        [0.8880],\n",
              "        [0.9020],\n",
              "        [0.9160],\n",
              "        [0.9300],\n",
              "        [0.9440],\n",
              "        [0.9580],\n",
              "        [0.9720],\n",
              "        [0.9860]])"
            ]
          },
          "metadata": {},
          "execution_count": 16
        }
      ],
      "source": [
        "y_test"
      ]
    },
    {
      "cell_type": "code",
      "execution_count": null,
      "metadata": {
        "colab": {
          "base_uri": "https://localhost:8080/",
          "height": 460
        },
        "id": "4VZyx-Kp4Qhc",
        "outputId": "1d7ed1e8-a52a-4e11-d619-bde0f3819c13"
      },
      "outputs": [
        {
          "output_type": "display_data",
          "data": {
            "text/plain": [
              "<Figure size 1000x700 with 1 Axes>"
            ],
            "image/png": "[encoded data removed]"
          },
          "metadata": {}
        }
      ],
      "source": [
        "plot_predictions(predictions=y_preds)"
      ]
    },
    {
      "cell_type": "markdown",
      "metadata": {
        "id": "BL8mYBAE4Q45"
      },
      "source": [
        " ##3. Train model\n",
        "The idea of training is to move from some *unknown* to approximate *known* parameters.\n",
        "we use a loss function to measure the performance(how wrong the models predictions are) of the model's prediction.\n",
        "\n",
        "\n",
        "NOTE: Loss function may also be called cost function or criteria in different areas.\n",
        "\n",
        "Things we need to train:\n",
        "\n",
        "**Loss function**- A function to measure how wrong models predictions are to the ideal outputs, lower the bettter.\n",
        "\n",
        "**Optimizer**- Takes into account the loss of a model and adjusts the model's parameters(weight and bias),to improve the loss function.\n",
        "\n",
        "And for PTorch,we need:\n",
        "* A Training loop\n",
        "* A testing loop\n",
        "\n",
        "\n",
        "\n",
        "\n",
        "\n",
        "\n",
        "\n",
        "\n",
        "\n"
      ]
    },
    {
      "cell_type": "code",
      "execution_count": null,
      "metadata": {
        "colab": {
          "base_uri": "https://localhost:8080/"
        },
        "id": "rj3LMgXpmOE2",
        "outputId": "ae3f0cf0-6886-4b14-e0cf-6fd96a1b0a18"
      },
      "outputs": [
        {
          "output_type": "execute_result",
          "data": {
            "text/plain": [
              "[Parameter containing:\n",
              " tensor([0.3367], requires_grad=True),\n",
              " Parameter containing:\n",
              " tensor([0.1288], requires_grad=True)]"
            ]
          },
          "metadata": {},
          "execution_count": 18
        }
      ],
      "source": [
        "list(model_0.parameters())"
      ]
    },
    {
      "cell_type": "code",
      "execution_count": null,
      "metadata": {
        "colab": {
          "base_uri": "https://localhost:8080/"
        },
        "id": "zZyC9RCJmOYx",
        "outputId": "d20fc4f5-401d-417d-dfa3-af51b8895e9f"
      },
      "outputs": [
        {
          "output_type": "execute_result",
          "data": {
            "text/plain": [
              "OrderedDict([('weights', tensor([0.3367])), ('bias', tensor([0.1288]))])"
            ]
          },
          "metadata": {},
          "execution_count": 19
        }
      ],
      "source": [
        "# Check model's parameters (a parameter is a value(and a testing loop that model sets itself)\n",
        "model_0.state_dict()"
      ]
    },
    {
      "cell_type": "code",
      "execution_count": null,
      "metadata": {
        "id": "jl_l4xhDmOrN"
      },
      "outputs": [],
      "source": [
        "#Set up a loss function\n",
        "loss_fn=nn.L1Loss() # aim is to minimize the mean absolute error\n",
        "\n",
        "\n",
        "# Set up an optimizer(stochastic gradient descent) if increasing weight reduces loss it keeps increasing weights till it stops effecting the loss\n",
        "optimizer=torch.optim.SGD(params=model_0.parameters(),lr=0.01) #lr=learning rate=possibly the most important hyperparameter you choose yourself\n",
        "\n"
      ]
    },
    {
      "cell_type": "code",
      "execution_count": null,
      "metadata": {
        "colab": {
          "base_uri": "https://localhost:8080/"
        },
        "id": "RWd1x0BXmO68",
        "outputId": "7b8771b2-252f-4ce5-cc33-8a442593dab4"
      },
      "outputs": [
        {
          "output_type": "execute_result",
          "data": {
            "text/plain": [
              "L1Loss()"
            ]
          },
          "metadata": {},
          "execution_count": 21
        }
      ],
      "source": [
        "# smaller learning rate smaller change in the parameter.\n",
        "loss_fn"
      ]
    },
    {
      "cell_type": "markdown",
      "metadata": {
        "id": "8FvoVRcztOpN"
      },
      "source": [
        "## Building a training loop in (and a testing loop) in PyTorch.\n",
        "\n",
        "Things for a Training Loop:\n",
        "0. Loop through the data and do..\n",
        "1. Forward pass(involves data moving through our model's 'forward()' functions) to make predictions on data.\n",
        "\n",
        "2. Calculate the loss(compare forward pass predictions to ground truth labels)\n",
        "\n",
        "3. Optimize zero gradient\n",
        "\n",
        "4. Loss backward-move backwards through the network to calculate the gradients of each of the parameters of our model with respect to the loss.\n",
        "(** backpropagation **)\n",
        "\n",
        "5. Optimizer step- use the optimizer to adjust our model's parameters to try and improve the loss(**gradient descent**)\n",
        "\n",
        "\n",
        "\n",
        " \n",
        "\n"
      ]
    },
    {
      "cell_type": "code",
      "execution_count": null,
      "metadata": {
        "id": "RvllobTR9msL"
      },
      "outputs": [],
      "source": [
        "# with torch.no_grad():\n",
        "#   list(model_0.parameters())"
      ]
    },
    {
      "cell_type": "code",
      "execution_count": null,
      "metadata": {
        "colab": {
          "base_uri": "https://localhost:8080/"
        },
        "id": "vqFXOeku9TTa",
        "outputId": "c727d61c-8562-4006-c314-4685860e5ad3"
      },
      "outputs": [
        {
          "output_type": "execute_result",
          "data": {
            "text/plain": [
              "[Parameter containing:\n",
              " tensor([0.3367], requires_grad=True),\n",
              " Parameter containing:\n",
              " tensor([0.1288], requires_grad=True)]"
            ]
          },
          "metadata": {},
          "execution_count": 23
        }
      ],
      "source": [
        "list(model_0.eval().parameters())\n"
      ]
    },
    {
      "cell_type": "code",
      "execution_count": null,
      "metadata": {
        "colab": {
          "base_uri": "https://localhost:8080/"
        },
        "id": "tNoJpiC38Pr9",
        "outputId": "af5cb4e4-bc51-4e14-db9c-4e21b7892984"
      },
      "outputs": [
        {
          "output_type": "execute_result",
          "data": {
            "text/plain": [
              "[Parameter containing:\n",
              " tensor([0.3367], requires_grad=True),\n",
              " Parameter containing:\n",
              " tensor([0.1288], requires_grad=True)]"
            ]
          },
          "metadata": {},
          "execution_count": 24
        }
      ],
      "source": [
        "list(model_0.parameters())"
      ]
    },
    {
      "cell_type": "code",
      "execution_count": null,
      "metadata": {
        "colab": {
          "base_uri": "https://localhost:8080/"
        },
        "id": "w8EedBUjtPAa",
        "outputId": "2bfad781-3d8a-4e66-dcd1-a6d5bd4aeea3"
      },
      "outputs": [
        {
          "output_type": "stream",
          "name": "stdout",
          "text": [
            "Epoch: 0 , Loss: 0.31288138031959534, Test Loss:0.48106518387794495\n",
            "Epoch: 10 , Loss: 0.1976713240146637, Test Loss:0.3463551998138428\n",
            "Epoch: 20 , Loss: 0.08908725529909134, Test Loss:0.21729660034179688\n",
            "Epoch: 30 , Loss: 0.053148526698350906, Test Loss:0.14464017748832703\n",
            "Epoch: 40 , Loss: 0.04543796554207802, Test Loss:0.11360953003168106\n",
            "Epoch: 50 , Loss: 0.04167863354086876, Test Loss:0.09919948130846024\n",
            "Epoch: 60 , Loss: 0.03818932920694351, Test Loss:0.08886633068323135\n",
            "Epoch: 70 , Loss: 0.03476089984178543, Test Loss:0.0805937647819519\n",
            "Epoch: 80 , Loss: 0.03132382780313492, Test Loss:0.07232122868299484\n",
            "Epoch: 90 , Loss: 0.02788739837706089, Test Loss:0.06473556160926819\n",
            "Epoch: 100 , Loss: 0.024458957836031914, Test Loss:0.05646304413676262\n",
            "Epoch: 110 , Loss: 0.021020207554101944, Test Loss:0.04819049686193466\n",
            "Epoch: 120 , Loss: 0.01758546568453312, Test Loss:0.04060482233762741\n",
            "Epoch: 130 , Loss: 0.014155393466353416, Test Loss:0.03233227878808975\n",
            "Epoch: 140 , Loss: 0.010716589167714119, Test Loss:0.024059748277068138\n",
            "Epoch: 150 , Loss: 0.0072835334576666355, Test Loss:0.016474086791276932\n",
            "Epoch: 160 , Loss: 0.0038517764769494534, Test Loss:0.008201557211577892\n",
            "Epoch: 170 , Loss: 0.008932482451200485, Test Loss:0.005023092031478882\n",
            "Epoch: 180 , Loss: 0.008932482451200485, Test Loss:0.005023092031478882\n",
            "Epoch: 190 , Loss: 0.008932482451200485, Test Loss:0.005023092031478882\n"
          ]
        }
      ],
      "source": [
        "#An epoch is ne loop through the data...(this is a hyperparameter) pass data through the model for a number of epochs\n",
        "torch.manual_seed(42)\n",
        "epochs=200 # right now we have very less data\n",
        "\n",
        "#Track different values\n",
        "epoch_count= []\n",
        "train_loss_values=[]\n",
        "test_loss_values=[]\n",
        "\n",
        "\n",
        "\n",
        "###Training\n",
        "#0. Loop through the data\n",
        "for epoch in range(epochs):\n",
        "     #set model in training mode\n",
        "     model_0.train() # train mode in PyTorch sets all parameters that require gradients to require  gradients\n",
        "\n",
        "     # 1. Forward pass\n",
        "     y_pred = model_0(X_train)\n",
        "     #2. Loss calculation\n",
        "     loss=loss_fn(y_pred, y_train)\n",
        "    #  print(f\"Loss:{loss}\")\n",
        "     #3.Optimizer zero grad\n",
        "     optimizer.zero_grad()\n",
        "\n",
        "     #4. Perform backpropagation on the loss with respect to the parameters of the model\n",
        "     loss.backward()\n",
        "     \n",
        "     #5. Step the optimizer(perform gradient descent)\n",
        "     optimizer.step() # by default how the optimizer changes will accuumulate through the loop so...we have to zero them above in step 3 \n",
        "                        #for next loop iteration.Pytorch creates a curve for rvery Parameter in our model.\n",
        "     #optimizer.step updates the model parameters.\n",
        "      \n",
        "\n",
        "\n",
        "\n",
        "     #Testing\n",
        "     model_0.eval() # turns off different settings not necessary for evaluation.(dropout/batch norm layers)\n",
        "     with torch.inference_mode(): # turns off off gradient tracking and some more things.\n",
        "     #with torch.no_grad():\n",
        "      #1. forward pass\n",
        "      test_pred=model_0(X_test)\n",
        "\n",
        "      #2. Loss\n",
        "      test_loss=loss_fn(test_pred,y_test)\n",
        "     \n",
        "      if epoch%10==0:\n",
        "        epoch_count.append(epoch)\n",
        "        train_loss_values.append(loss)\n",
        "        test_loss_values.append(test_loss)\n",
        "\n",
        "\n",
        "        print(f\"Epoch: {epoch} , Loss: {loss}, Test Loss:{test_loss}\")\n",
        "     #print model state dict\n",
        "    #  print(model_0.state_dict())\n",
        "\n",
        "\n",
        "\n",
        "\n"
      ]
    },
    {
      "cell_type": "code",
      "execution_count": null,
      "metadata": {
        "colab": {
          "base_uri": "https://localhost:8080/"
        },
        "id": "M8NivaX7oYSJ",
        "outputId": "4f9bb02e-ebd7-40bd-e4e5-a2e573cef2de"
      },
      "outputs": [
        {
          "output_type": "execute_result",
          "data": {
            "text/plain": [
              "([0,\n",
              "  10,\n",
              "  20,\n",
              "  30,\n",
              "  40,\n",
              "  50,\n",
              "  60,\n",
              "  70,\n",
              "  80,\n",
              "  90,\n",
              "  100,\n",
              "  110,\n",
              "  120,\n",
              "  130,\n",
              "  140,\n",
              "  150,\n",
              "  160,\n",
              "  170,\n",
              "  180,\n",
              "  190],\n",
              " [tensor(0.3129, grad_fn=<MeanBackward0>),\n",
              "  tensor(0.1977, grad_fn=<MeanBackward0>),\n",
              "  tensor(0.0891, grad_fn=<MeanBackward0>),\n",
              "  tensor(0.0531, grad_fn=<MeanBackward0>),\n",
              "  tensor(0.0454, grad_fn=<MeanBackward0>),\n",
              "  tensor(0.0417, grad_fn=<MeanBackward0>),\n",
              "  tensor(0.0382, grad_fn=<MeanBackward0>),\n",
              "  tensor(0.0348, grad_fn=<MeanBackward0>),\n",
              "  tensor(0.0313, grad_fn=<MeanBackward0>),\n",
              "  tensor(0.0279, grad_fn=<MeanBackward0>),\n",
              "  tensor(0.0245, grad_fn=<MeanBackward0>),\n",
              "  tensor(0.0210, grad_fn=<MeanBackward0>),\n",
              "  tensor(0.0176, grad_fn=<MeanBackward0>),\n",
              "  tensor(0.0142, grad_fn=<MeanBackward0>),\n",
              "  tensor(0.0107, grad_fn=<MeanBackward0>),\n",
              "  tensor(0.0073, grad_fn=<MeanBackward0>),\n",
              "  tensor(0.0039, grad_fn=<MeanBackward0>),\n",
              "  tensor(0.0089, grad_fn=<MeanBackward0>),\n",
              "  tensor(0.0089, grad_fn=<MeanBackward0>),\n",
              "  tensor(0.0089, grad_fn=<MeanBackward0>)],\n",
              " [tensor(0.4811),\n",
              "  tensor(0.3464),\n",
              "  tensor(0.2173),\n",
              "  tensor(0.1446),\n",
              "  tensor(0.1136),\n",
              "  tensor(0.0992),\n",
              "  tensor(0.0889),\n",
              "  tensor(0.0806),\n",
              "  tensor(0.0723),\n",
              "  tensor(0.0647),\n",
              "  tensor(0.0565),\n",
              "  tensor(0.0482),\n",
              "  tensor(0.0406),\n",
              "  tensor(0.0323),\n",
              "  tensor(0.0241),\n",
              "  tensor(0.0165),\n",
              "  tensor(0.0082),\n",
              "  tensor(0.0050),\n",
              "  tensor(0.0050),\n",
              "  tensor(0.0050)])"
            ]
          },
          "metadata": {},
          "execution_count": 26
        }
      ],
      "source": [
        "epoch_count, train_loss_values, test_loss_values"
      ]
    },
    {
      "cell_type": "code",
      "execution_count": null,
      "metadata": {
        "colab": {
          "base_uri": "https://localhost:8080/",
          "height": 472
        },
        "id": "CVF9XWxzrPQ5",
        "outputId": "92821f5e-c315-414d-ab58-aaaa2563c817"
      },
      "outputs": [
        {
          "output_type": "display_data",
          "data": {
            "text/plain": [
              "<Figure size 640x480 with 1 Axes>"
            ],
            "image/png": "[encoded data removed]"
          },
          "metadata": {}
        }
      ],
      "source": [
        "# Plot the loss curves\n",
        "import numpy as np\n",
        "plt.plot(epoch_count,np.array(torch.tensor(train_loss_values).cpu().numpy()),label=\"Train loss\")\n",
        "plt.plot(epoch_count, test_loss_values,label=\"Test loss\")\n",
        "plt.title(\"Training and test loss curves\")\n",
        "plt.ylabel(\"Loss\")\n",
        "plt.xlabel(\"Epochs\")\n",
        "plt.legend();\n",
        "\n"
      ]
    },
    {
      "cell_type": "code",
      "execution_count": null,
      "metadata": {
        "colab": {
          "base_uri": "https://localhost:8080/"
        },
        "id": "vQjmswEmtPZW",
        "outputId": "2a15c396-06d7-4677-b7cd-b4a5fa7f56ae"
      },
      "outputs": [
        {
          "output_type": "execute_result",
          "data": {
            "text/plain": [
              "OrderedDict([('weights', tensor([0.6990])), ('bias', tensor([0.3093]))])"
            ]
          },
          "metadata": {},
          "execution_count": 28
        }
      ],
      "source": [
        "# list named parameters\n",
        "model_0.state_dict()"
      ]
    },
    {
      "cell_type": "code",
      "execution_count": null,
      "metadata": {
        "colab": {
          "base_uri": "https://localhost:8080/"
        },
        "id": "CdtGrqda20v1",
        "outputId": "d1e2022b-333f-466a-88cb-cc5e01d13e58"
      },
      "outputs": [
        {
          "output_type": "execute_result",
          "data": {
            "text/plain": [
              "(0.7, 0.3)"
            ]
          },
          "metadata": {},
          "execution_count": 29
        }
      ],
      "source": [
        "weight,bias"
      ]
    },
    {
      "cell_type": "code",
      "execution_count": null,
      "metadata": {
        "id": "B2XvEufD5cH0"
      },
      "outputs": [],
      "source": [
        "with torch.inference_mode():\n",
        "  y_preds_new=model_0(X_test)"
      ]
    },
    {
      "cell_type": "code",
      "execution_count": null,
      "metadata": {
        "colab": {
          "base_uri": "https://localhost:8080/",
          "height": 460
        },
        "id": "WgpCzXV45c2c",
        "outputId": "f2cc3586-a64b-4fcc-a545-b88ce50eda6a"
      },
      "outputs": [
        {
          "output_type": "display_data",
          "data": {
            "text/plain": [
              "<Figure size 1000x700 with 1 Axes>"
            ],
            "image/png": "[encoded data removed]"
          },
          "metadata": {}
        }
      ],
      "source": [
        "plot_predictions(predictions=y_preds);"
      ]
    },
    {
      "cell_type": "code",
      "execution_count": null,
      "metadata": {
        "colab": {
          "base_uri": "https://localhost:8080/",
          "height": 460
        },
        "id": "9pFRQfbf6_b2",
        "outputId": "d223179d-eca3-49ed-de0f-058bd9c1f362"
      },
      "outputs": [
        {
          "output_type": "display_data",
          "data": {
            "text/plain": [
              "<Figure size 1000x700 with 1 Axes>"
            ],
            "image/png": "[encoded data removed]"
          },
          "metadata": {}
        }
      ],
      "source": [
        "plot_predictions(predictions=y_preds_new)"
      ]
    },
    {
      "cell_type": "markdown",
      "metadata": {
        "id": "StBFhsAV8RIX"
      },
      "source": [
        "## Saving model in PyTorch\n",
        "The recommended way for saving and loading a model for inference (making predictions) is by saving and loading a model's state_dict().\n",
        "\n",
        "Let's see how we can do that in a few steps:\n",
        "\n",
        "    We'll create a directory for saving models to called models using Python's pathlib module.\n",
        "    We'll create a file path to save the model to.\n",
        "    We'll call torch.save(obj, f) where obj is the target model's state_dict() and f is the filename of where to save the model.\n",
        "\n",
        "    Note: It's common convention for PyTorch saved models or objects to end with .pt or .pth, like saved_model_01.pth.\n"
      ]
    },
    {
      "cell_type": "code",
      "execution_count": null,
      "metadata": {
        "colab": {
          "base_uri": "https://localhost:8080/"
        },
        "id": "Be_xxpbh8Rwn",
        "outputId": "3a9bed95-b5d5-40fa-bb97-0af9bbb91e33"
      },
      "outputs": [
        {
          "output_type": "execute_result",
          "data": {
            "text/plain": [
              "OrderedDict([('weights', tensor([0.6990])), ('bias', tensor([0.3093]))])"
            ]
          },
          "metadata": {},
          "execution_count": 33
        }
      ],
      "source": [
        "model_0.state_dict()"
      ]
    },
    {
      "cell_type": "code",
      "execution_count": null,
      "metadata": {
        "colab": {
          "base_uri": "https://localhost:8080/"
        },
        "id": "Fkb1v7dJ5InG",
        "outputId": "246eb656-d72a-46cd-826b-4934e608baba"
      },
      "outputs": [
        {
          "output_type": "stream",
          "name": "stdout",
          "text": [
            "Mounted at /content/googledrivedata\n"
          ]
        }
      ],
      "source": [
        "from google.colab import drive\n",
        "drive.mount('/content/googledrivedata') "
      ]
    },
    {
      "cell_type": "code",
      "execution_count": null,
      "metadata": {
        "colab": {
          "base_uri": "https://localhost:8080/"
        },
        "id": "9ctM46bC8SBf",
        "outputId": "41bf2835-6b00-412d-8d16-4deba01157f7"
      },
      "outputs": [
        {
          "output_type": "stream",
          "name": "stdout",
          "text": [
            "Saving model to: models/01_PYTORCH_WORKFLOW_MODEL_0.pth\n"
          ]
        }
      ],
      "source": [
        "# saving model\n",
        "from pathlib import Path\n",
        "# 1 create directory\n",
        "Model_Path=Path(\"models\")\n",
        "Model_Path.mkdir(parents=True, exist_ok=True)\n",
        "\n",
        "\n",
        "# 2 Create model save path\n",
        "MODEL_NAME=\"01_PYTORCH_WORKFLOW_MODEL_0.pth\"\n",
        "MODEL_SAVE_PATH=Model_Path / MODEL_NAME\n",
        "MODEL_SAVE_PATH\n",
        "\n",
        "# Save the model state dict\n",
        "print(f\"Saving model to: {MODEL_SAVE_PATH}\")\n",
        "torch.save(obj=model_0.state_dict(),f=MODEL_SAVE_PATH)\n",
        "\n"
      ]
    },
    {
      "cell_type": "markdown",
      "source": [
        "##Putting it all altogether"
      ],
      "metadata": {
        "id": "yAK5U4jI8SNW"
      }
    },
    {
      "cell_type": "code",
      "source": [
        "import torch\n",
        "from torch import nn\n",
        "import matplotlib.pyplot as plt\n",
        "\n",
        "#pytorch version\n",
        "torch.__version__"
      ],
      "metadata": {
        "id": "Ui08xqZJw5MO",
        "colab": {
          "base_uri": "https://localhost:8080/",
          "height": 35
        },
        "outputId": "2f77469b-f653-4d5c-e18a-5986821699ca"
      },
      "execution_count": 2,
      "outputs": [
        {
          "output_type": "execute_result",
          "data": {
            "text/plain": [
              "'2.0.0+cu118'"
            ],
            "application/vnd.google.colaboratory.intrinsic+json": {
              "type": "string"
            }
          },
          "metadata": {},
          "execution_count": 2
        }
      ]
    },
    {
      "cell_type": "code",
      "source": [
        "device= \"cuda\"  if torch.cuda.is_available() else \"cpu\"\n",
        "print(f\"Using Device: {device}\")"
      ],
      "metadata": {
        "colab": {
          "base_uri": "https://localhost:8080/"
        },
        "id": "Biv9OZyRyxWz",
        "outputId": "49cd9aac-8dc4-486c-db81-69ad26da412b"
      },
      "execution_count": 8,
      "outputs": [
        {
          "output_type": "stream",
          "name": "stdout",
          "text": [
            "Using Device: cpu\n"
          ]
        }
      ]
    },
    {
      "cell_type": "code",
      "source": [
        "#Data creation\n",
        "weight=0.7\n",
        "bias=0.3\n",
        "\n",
        "start=0\n",
        "end=1\n",
        "step=0.02\n",
        "X=torch.arange(start,end,step).unsqueeze(dim=1)\n",
        "y=weight *X+bias\n",
        "X[:10], y[:10]"
      ],
      "metadata": {
        "colab": {
          "base_uri": "https://localhost:8080/"
        },
        "id": "T3OmYfWIzlqu",
        "outputId": "48f768e5-d433-43d3-95ac-dab33fe41509"
      },
      "execution_count": 13,
      "outputs": [
        {
          "output_type": "execute_result",
          "data": {
            "text/plain": [
              "(tensor([[0.0000],\n",
              "         [0.0200],\n",
              "         [0.0400],\n",
              "         [0.0600],\n",
              "         [0.0800],\n",
              "         [0.1000],\n",
              "         [0.1200],\n",
              "         [0.1400],\n",
              "         [0.1600],\n",
              "         [0.1800]]),\n",
              " tensor([[0.3000],\n",
              "         [0.3140],\n",
              "         [0.3280],\n",
              "         [0.3420],\n",
              "         [0.3560],\n",
              "         [0.3700],\n",
              "         [0.3840],\n",
              "         [0.3980],\n",
              "         [0.4120],\n",
              "         [0.4260]]))"
            ]
          },
          "metadata": {},
          "execution_count": 13
        }
      ]
    },
    {
      "cell_type": "code",
      "source": [
        "#split data\n",
        "train_split= int(0.8*len(X))\n",
        "X_train,y_train=X[:train_split],y[:train_split]\n",
        "X_test,y_test=X[train_split:],y[train_split:]\n",
        "X_train[:10],y_train[:10], len(X_train),len(y_train),len(X_test),len(y_test)\n"
      ],
      "metadata": {
        "colab": {
          "base_uri": "https://localhost:8080/"
        },
        "id": "_4-fqADj1LMD",
        "outputId": "88cef0a3-9c53-4d55-85d3-270259969b0d"
      },
      "execution_count": 28,
      "outputs": [
        {
          "output_type": "execute_result",
          "data": {
            "text/plain": [
              "(tensor([[0.0000],\n",
              "         [0.0200],\n",
              "         [0.0400],\n",
              "         [0.0600],\n",
              "         [0.0800],\n",
              "         [0.1000],\n",
              "         [0.1200],\n",
              "         [0.1400],\n",
              "         [0.1600],\n",
              "         [0.1800]]),\n",
              " tensor([[0.3000],\n",
              "         [0.3140],\n",
              "         [0.3280],\n",
              "         [0.3420],\n",
              "         [0.3560],\n",
              "         [0.3700],\n",
              "         [0.3840],\n",
              "         [0.3980],\n",
              "         [0.4120],\n",
              "         [0.4260]]),\n",
              " 40,\n",
              " 40,\n",
              " 10,\n",
              " 10)"
            ]
          },
          "metadata": {},
          "execution_count": 28
        }
      ]
    },
    {
      "cell_type": "code",
      "source": [
        "def plot_predictions(train_data=X_train, train_labels=y_train, test_data=X_test, test_labels=y_test,predictions=None):\n",
        "    \n",
        "    plt.figure(figsize=(10,7))\n",
        "    plt.scatter(train_data,train_labels,c=\"b\",s=4,label=\"Training data\")\n",
        "    plt.scatter(test_data,test_labels,c=\"g\",s=4,label=\"Testing data\")\n",
        "    if predictions is not None:\n",
        "      plt.scatter(test_data,predictions,c=\"r\",s=4,label=\"Predictions\")\n",
        "\n",
        "    plt.legend(prop={\"size\" : 14});\n",
        "\n",
        "   \n",
        "    "
      ],
      "metadata": {
        "id": "xg1iLUgT1MI4"
      },
      "execution_count": 31,
      "outputs": []
    },
    {
      "cell_type": "code",
      "source": [
        "plot_predictions();"
      ],
      "metadata": {
        "colab": {
          "base_uri": "https://localhost:8080/",
          "height": 460
        },
        "id": "EjEOm26l1NDt",
        "outputId": "e1c60312-8572-457e-9560-4c65a7f7a7e4"
      },
      "execution_count": 33,
      "outputs": [
        {
          "output_type": "display_data",
          "data": {
            "text/plain": [
              "<Figure size 1000x700 with 1 Axes>"
            ],
            "image/png": "[encoded data removed]"
          },
          "metadata": {}
        }
      ]
    },
    {
      "cell_type": "code",
      "source": [
        "class LinearRegressionModelv2(nn.Module):\n",
        "  def __init__(self):\n",
        "    super().__init__()\n",
        "    self.linear_layer=nn.Linear(in_features=1,out_features=1)\n",
        "\n",
        "  def forward(self, x:torch.tensor) ->torch.tensor:\n",
        "    return self.linear_layer(x)\n",
        "\n",
        "torch.manual_seed(42)\n",
        "model_1=LinearRegressionModelv2()\n",
        "model_1,model_1.state_dict()\n",
        "\n",
        "\n"
      ],
      "metadata": {
        "colab": {
          "base_uri": "https://localhost:8080/"
        },
        "id": "3QYPVrEk80E0",
        "outputId": "61a2bad9-33c6-4159-8c3a-34b18755e5aa"
      },
      "execution_count": 39,
      "outputs": [
        {
          "output_type": "execute_result",
          "data": {
            "text/plain": [
              "(LinearRegressionModelv2(\n",
              "   (linear_layer): Linear(in_features=1, out_features=1, bias=True)\n",
              " ),\n",
              " OrderedDict([('linear_layer.weight', tensor([[0.7645]])),\n",
              "              ('linear_layer.bias', tensor([0.8300]))]))"
            ]
          },
          "metadata": {},
          "execution_count": 39
        }
      ]
    },
    {
      "cell_type": "code",
      "source": [
        "next(model_1.parameters()).device\n"
      ],
      "metadata": {
        "colab": {
          "base_uri": "https://localhost:8080/"
        },
        "id": "7SwtkNv9815_",
        "outputId": "def0fae9-1887-408a-9e8c-193091756c8a"
      },
      "execution_count": 49,
      "outputs": [
        {
          "output_type": "execute_result",
          "data": {
            "text/plain": [
              "device(type='cpu')"
            ]
          },
          "metadata": {},
          "execution_count": 49
        }
      ]
    },
    {
      "cell_type": "code",
      "source": [
        "model_1=model_1.to(device)"
      ],
      "metadata": {
        "id": "ARv_2A_482R_"
      },
      "execution_count": 60,
      "outputs": []
    },
    {
      "cell_type": "code",
      "source": [
        "model_1.state_dict(),next(model_1.parameters()).device\n"
      ],
      "metadata": {
        "colab": {
          "base_uri": "https://localhost:8080/"
        },
        "id": "qXEZsOx082lS",
        "outputId": "e04f9ce1-45ce-4455-efd2-e02778e23ee9"
      },
      "execution_count": 61,
      "outputs": [
        {
          "output_type": "execute_result",
          "data": {
            "text/plain": [
              "(OrderedDict([('linear_layer.weight', tensor([[0.6968]])),\n",
              "              ('linear_layer.bias', tensor([0.3025]))]),\n",
              " device(type='cpu'))"
            ]
          },
          "metadata": {},
          "execution_count": 61
        }
      ]
    },
    {
      "cell_type": "code",
      "source": [
        "loss_fxn=nn.L1Loss()\n",
        "optimizer=torch.optim.SGD(params=model_1.parameters(),lr=0.01)\n",
        "\n"
      ],
      "metadata": {
        "id": "AxxEo1Ht822S"
      },
      "execution_count": 45,
      "outputs": []
    },
    {
      "cell_type": "code",
      "source": [
        "X_train=X_train.to(device)\n",
        "y_train = y_train.to(device)\n",
        "X_test=X_test.to(device)\n",
        "y_test=y_test.to(device)"
      ],
      "metadata": {
        "id": "0N48ab1OITW1"
      },
      "execution_count": 65,
      "outputs": []
    },
    {
      "cell_type": "code",
      "source": [
        "torch.manual_seed(42)\n",
        "epochs=200\n",
        "\n",
        "for epoch in range(epochs):\n",
        "  model_1.train()\n",
        "  y_pred=model_1(X_train)\n",
        "  loss=loss_fxn(y_pred,y_train)\n",
        "  optimizer.zero_grad()\n",
        "  \n",
        "  loss.backward()\n",
        "  optimizer.step()\n",
        "  \n",
        "  model_1.eval()\n",
        "  with torch.inference_mode():\n",
        "    test_pred=model_1(X_test)\n",
        "    test_loss=loss_fxn(test_pred,y_test)\n",
        "\n",
        "  if epoch % 10==0:\n",
        "    print(f\"Epoch:{epoch} | Loss: {loss} | Testloss : {test_loss}\")\n",
        "  \n",
        "  "
      ],
      "metadata": {
        "colab": {
          "base_uri": "https://localhost:8080/"
        },
        "id": "J0A0OLtvB3As",
        "outputId": "50712c78-a6d4-4fb6-8436-2bd368f9d07b"
      },
      "execution_count": 46,
      "outputs": [
        {
          "output_type": "stream",
          "name": "stdout",
          "text": [
            "Epoch:0 | Loss: 0.5551779866218567 | Testloss : 0.5739762187004089\n",
            "Epoch:10 | Loss: 0.4399680495262146 | Testloss : 0.4392663538455963\n",
            "Epoch:20 | Loss: 0.3247582018375397 | Testloss : 0.30455657839775085\n",
            "Epoch:30 | Loss: 0.20954827964305878 | Testloss : 0.16984674334526062\n",
            "Epoch:40 | Loss: 0.09433844685554504 | Testloss : 0.03513689711689949\n",
            "Epoch:50 | Loss: 0.023886386305093765 | Testloss : 0.04784906655550003\n",
            "Epoch:60 | Loss: 0.0199567973613739 | Testloss : 0.04580312222242355\n",
            "Epoch:70 | Loss: 0.016517987474799156 | Testloss : 0.0375305712223053\n",
            "Epoch:80 | Loss: 0.013089170679450035 | Testloss : 0.029944902285933495\n",
            "Epoch:90 | Loss: 0.009653178043663502 | Testloss : 0.02167237363755703\n",
            "Epoch:100 | Loss: 0.006215679459273815 | Testloss : 0.014086711220443249\n",
            "Epoch:110 | Loss: 0.002787243574857712 | Testloss : 0.005814164876937866\n",
            "Epoch:120 | Loss: 0.0012645035749301314 | Testloss : 0.013801807537674904\n",
            "Epoch:130 | Loss: 0.0012645035749301314 | Testloss : 0.013801807537674904\n",
            "Epoch:140 | Loss: 0.0012645035749301314 | Testloss : 0.013801807537674904\n",
            "Epoch:150 | Loss: 0.0012645035749301314 | Testloss : 0.013801807537674904\n",
            "Epoch:160 | Loss: 0.0012645035749301314 | Testloss : 0.013801807537674904\n",
            "Epoch:170 | Loss: 0.0012645035749301314 | Testloss : 0.013801807537674904\n",
            "Epoch:180 | Loss: 0.0012645035749301314 | Testloss : 0.013801807537674904\n",
            "Epoch:190 | Loss: 0.0012645035749301314 | Testloss : 0.013801807537674904\n"
          ]
        }
      ]
    },
    {
      "cell_type": "code",
      "source": [
        "model_1.state_dict()"
      ],
      "metadata": {
        "colab": {
          "base_uri": "https://localhost:8080/"
        },
        "id": "rnIcp-gyB3bq",
        "outputId": "66170d20-0f15-42a4-ceb8-7d53f1c96a0d"
      },
      "execution_count": 66,
      "outputs": [
        {
          "output_type": "execute_result",
          "data": {
            "text/plain": [
              "OrderedDict([('linear_layer.weight', tensor([[0.6968]])),\n",
              "             ('linear_layer.bias', tensor([0.3025]))])"
            ]
          },
          "metadata": {},
          "execution_count": 66
        }
      ]
    },
    {
      "cell_type": "code",
      "source": [
        "weight,bias"
      ],
      "metadata": {
        "colab": {
          "base_uri": "https://localhost:8080/"
        },
        "id": "0I5L-14eB3zn",
        "outputId": "c442f8af-659d-47c6-a568-a4c30a7a1bdf"
      },
      "execution_count": 67,
      "outputs": [
        {
          "output_type": "execute_result",
          "data": {
            "text/plain": [
              "(0.7, 0.3)"
            ]
          },
          "metadata": {},
          "execution_count": 67
        }
      ]
    },
    {
      "cell_type": "code",
      "source": [
        "model_1.eval()\n",
        "with torch.inference_mode():\n",
        "  y_preds=model_1(X_test)\n",
        "y_preds"
      ],
      "metadata": {
        "colab": {
          "base_uri": "https://localhost:8080/"
        },
        "id": "sFwYx43hLH8K",
        "outputId": "bcd4dcd2-85fb-4fd7-a5e7-407119aaf699"
      },
      "execution_count": 71,
      "outputs": [
        {
          "output_type": "execute_result",
          "data": {
            "text/plain": [
              "tensor([[0.8600],\n",
              "        [0.8739],\n",
              "        [0.8878],\n",
              "        [0.9018],\n",
              "        [0.9157],\n",
              "        [0.9296],\n",
              "        [0.9436],\n",
              "        [0.9575],\n",
              "        [0.9714],\n",
              "        [0.9854]])"
            ]
          },
          "metadata": {},
          "execution_count": 71
        }
      ]
    },
    {
      "cell_type": "code",
      "source": [
        "plot_predictions(predictions=y_preds.cpu()) #uses numpy array as argument matplotlib works with numpy\n",
        "\n"
      ],
      "metadata": {
        "colab": {
          "base_uri": "https://localhost:8080/",
          "height": 460
        },
        "id": "LYZM_WjEB4Z6",
        "outputId": "13f3a132-889f-4a0b-d6f6-d58744380202"
      },
      "execution_count": 75,
      "outputs": [
        {
          "output_type": "display_data",
          "data": {
            "text/plain": [
              "<Figure size 1000x700 with 1 Axes>"
            ],
            "image/png": "[encoded data removed]"
          },
          "metadata": {}
        }
      ]
    },
    {
      "cell_type": "code",
      "source": [
        "model_1.state_dict"
      ],
      "metadata": {
        "colab": {
          "base_uri": "https://localhost:8080/"
        },
        "id": "f6rV7_JmRWxS",
        "outputId": "66df01b2-04eb-461e-b5f6-e596491fc45e"
      },
      "execution_count": 76,
      "outputs": [
        {
          "output_type": "execute_result",
          "data": {
            "text/plain": [
              "<bound method Module.state_dict of LinearRegressionModelv2(\n",
              "  (linear_layer): Linear(in_features=1, out_features=1, bias=True)\n",
              ")>"
            ]
          },
          "metadata": {},
          "execution_count": 76
        }
      ]
    },
    {
      "cell_type": "code",
      "source": [
        "from pathlib import Path\n",
        "\n",
        "Model_path=Path(\"Models\")\n",
        "Model_path.mkdir(parents=True,exist_ok=True)\n",
        "\n",
        "Model_Name=\"01_Pytorch_Model-2\"\n",
        "Model_save_path=Model_path/Model_Name\n",
        "\n",
        "print(f\"Saving Model to: {Model_save_path}\")\n",
        "\n",
        "torch.save(obj=model_1.state_dict(),f=Model_save_path)\n",
        "\n",
        "\n",
        "\n",
        "\n"
      ],
      "metadata": {
        "colab": {
          "base_uri": "https://localhost:8080/"
        },
        "id": "arE235xBJYp1",
        "outputId": "97b22d07-bae0-4327-e6b2-8feaceb8b5a1"
      },
      "execution_count": 84,
      "outputs": [
        {
          "output_type": "stream",
          "name": "stdout",
          "text": [
            "Saving Model to: Models/01_Pytorch_Model-2\n"
          ]
        }
      ]
    },
    {
      "cell_type": "code",
      "source": [
        "from google.colab import drive\n",
        "drive.mount('/content/googledrivedata')\n",
        "torch.save(obj=model_1.state_dict(),f=\"/content/googledrivedata/MyDrive/ColabNotebooks/Py_Model_01\")\n"
      ],
      "metadata": {
        "colab": {
          "base_uri": "https://localhost:8080/"
        },
        "id": "bcDCnKqRJY-s",
        "outputId": "17d5341e-82df-4f96-a63e-ba9f526eab16"
      },
      "execution_count": 91,
      "outputs": [
        {
          "output_type": "stream",
          "name": "stdout",
          "text": [
            "Drive already mounted at /content/googledrivedata; to attempt to forcibly remount, call drive.mount(\"/content/googledrivedata\", force_remount=True).\n"
          ]
        }
      ]
    },
    {
      "cell_type": "code",
      "source": [
        "loaded_model_1=LinearRegressionModelv2()\n",
        "loaded_model_1.load_state_dict(torch.load(Model_save_path))\n",
        "loaded_model_1.load_state_dict(torch.load(\"/content/googledrivedata/MyDrive/ColabNotebooks/Py_Model_01\"))"
      ],
      "metadata": {
        "colab": {
          "base_uri": "https://localhost:8080/"
        },
        "id": "ZeEy7ovmJZUG",
        "outputId": "ad6fe6be-658d-446f-db5f-5bd6d0599a2f"
      },
      "execution_count": 94,
      "outputs": [
        {
          "output_type": "execute_result",
          "data": {
            "text/plain": [
              "<All keys matched successfully>"
            ]
          },
          "metadata": {},
          "execution_count": 94
        }
      ]
    },
    {
      "cell_type": "code",
      "source": [
        "loaded_model_1.to(device)\n"
      ],
      "metadata": {
        "colab": {
          "base_uri": "https://localhost:8080/"
        },
        "id": "vunYkLIcXbiv",
        "outputId": "e4f548b4-c920-4c8c-f447-2df7b1dae709"
      },
      "execution_count": 102,
      "outputs": [
        {
          "output_type": "execute_result",
          "data": {
            "text/plain": [
              "LinearRegressionModelv2(\n",
              "  (linear_layer): Linear(in_features=1, out_features=1, bias=True)\n",
              ")"
            ]
          },
          "metadata": {},
          "execution_count": 102
        }
      ]
    },
    {
      "cell_type": "code",
      "source": [
        "next(loaded_model_1.parameters()).device"
      ],
      "metadata": {
        "colab": {
          "base_uri": "https://localhost:8080/"
        },
        "id": "TCVWJS_FXgSL",
        "outputId": "e13493df-e89f-44dc-dd7d-2c922089e23b"
      },
      "execution_count": 103,
      "outputs": [
        {
          "output_type": "execute_result",
          "data": {
            "text/plain": [
              "device(type='cpu')"
            ]
          },
          "metadata": {},
          "execution_count": 103
        }
      ]
    },
    {
      "cell_type": "code",
      "source": [
        "loaded_model_1.state_dict()"
      ],
      "metadata": {
        "colab": {
          "base_uri": "https://localhost:8080/"
        },
        "id": "0-T3g3WoY7v9",
        "outputId": "46ddcd1e-c3ec-4254-9b63-01c66402f4fd"
      },
      "execution_count": 104,
      "outputs": [
        {
          "output_type": "execute_result",
          "data": {
            "text/plain": [
              "OrderedDict([('linear_layer.weight', tensor([[0.6968]])),\n",
              "             ('linear_layer.bias', tensor([0.3025]))])"
            ]
          },
          "metadata": {},
          "execution_count": 104
        }
      ]
    },
    {
      "cell_type": "code",
      "source": [
        "loaded_model_1.eval()\n",
        "with torch.inference_mode():\n",
        "  loaded_model_preds=loaded_model_1(X_test)\n",
        "y_preds==loaded_model_preds"
      ],
      "metadata": {
        "colab": {
          "base_uri": "https://localhost:8080/"
        },
        "id": "oD66HUGcY8Ub",
        "outputId": "22cef37c-fb6e-47d8-d3df-100865491b4c"
      },
      "execution_count": 106,
      "outputs": [
        {
          "output_type": "execute_result",
          "data": {
            "text/plain": [
              "tensor([[True],\n",
              "        [True],\n",
              "        [True],\n",
              "        [True],\n",
              "        [True],\n",
              "        [True],\n",
              "        [True],\n",
              "        [True],\n",
              "        [True],\n",
              "        [True]])"
            ]
          },
          "metadata": {},
          "execution_count": 106
        }
      ]
    },
    {
      "cell_type": "code",
      "source": [],
      "metadata": {
        "id": "bU_DJCwJZsqi"
      },
      "execution_count": null,
      "outputs": []
    },
    {
      "cell_type": "code",
      "source": [],
      "metadata": {
        "id": "4bo5w2LOZwBo"
      },
      "execution_count": null,
      "outputs": []
    },
    {
      "cell_type": "code",
      "source": [],
      "metadata": {
        "id": "M8dMFTyjZwpR"
      },
      "execution_count": null,
      "outputs": []
    },
    {
      "cell_type": "code",
      "source": [],
      "metadata": {
        "id": "D8LwhBclZxUw"
      },
      "execution_count": null,
      "outputs": []
    }
  ],
  "metadata": {
    "colab": {
      "provenance": [],
      "authorship_tag": "ABX9TyNoFgEZFBH/Y7hlIzo1zArI",
      "include_colab_link": true
    },
    "kernelspec": {
      "display_name": "Python 3",
      "name": "python3"
    },
    "language_info": {
      "name": "python"
    }
  },
  "nbformat": 4,
  "nbformat_minor": 0
}